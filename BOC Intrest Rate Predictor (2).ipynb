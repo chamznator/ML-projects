{
  "nbformat": 4,
  "nbformat_minor": 0,
  "metadata": {
    "colab": {
      "provenance": [],
      "collapsed_sections": []
    },
    "kernelspec": {
      "name": "python3",
      "display_name": "Python 3"
    }
  },
  "cells": [
    {
      "cell_type": "code",
      "metadata": {
        "id": "1iR_fsfCuwqY"
      },
      "source": [
        "import matplotlib\n",
        "import matplotlib.pyplot as plt\n",
        "import numpy as np\n",
        "import pandas as pd\n",
        "import seaborn as sns\n",
        "from sklearn.linear_model import LinearRegression, LogisticRegression, LassoCV, RidgeCV\n"
      ],
      "execution_count": null,
      "outputs": []
    },
    {
      "cell_type": "code",
      "metadata": {
        "id": "Qes3jswUvR9Q",
        "outputId": "db38b164-21fa-4641-89d8-190365f9850b",
        "colab": {
          "base_uri": "https://localhost:8080/",
          "height": 121
        }
      },
      "source": [
        "from google.colab import drive\n",
        "drive.mount('/content/drive', force_remount = True)\n",
        "data_dir = '/content/drive/My Drive/ - Project/CompletedDatasets(1995-2015)'"
      ],
      "execution_count": null,
      "outputs": [
        {
          "output_type": "stream",
          "text": [
            "Go to this URL in a browser: https://accounts.google.com/o/oauth2/auth?client_id=947318989803-6bn6qk8qdgf4n4g3pfee6491hc0brc4i.apps.googleusercontent.com&redirect_uri=urn%3Aietf%3Awg%3Aoauth%3A2.0%3Aoob&scope=email%20https%3A%2F%2Fwww.googleapis.com%2Fauth%2Fdocs.test%20https%3A%2F%2Fwww.googleapis.com%2Fauth%2Fdrive%20https%3A%2F%2Fwww.googleapis.com%2Fauth%2Fdrive.photos.readonly%20https%3A%2F%2Fwww.googleapis.com%2Fauth%2Fpeopleapi.readonly&response_type=code\n",
            "\n",
            "Enter your authorization code:\n",
            "··········\n",
            "Mounted at /content/drive\n"
          ],
          "name": "stdout"
        }
      ]
    },
    {
      "cell_type": "code",
      "metadata": {
        "id": "fCxrJRD4v7fs",
        "outputId": "b6ddac50-2d78-4a46-8dfa-774a7dcefe8e",
        "colab": {
          "base_uri": "https://localhost:8080/",
          "height": 330
        }
      },
      "source": [
        "df = pd.read_csv(\"{}/Combined Data Sets - unsplit.csv\".format(data_dir))\n",
        "df.columns = ['Date','Imports','Exports',\n",
        "                     'Inflation','Interest_rate','unemployment_rate', 'consumer_spend','gov_spend']\n",
        "df.head()\n",
        "\n",
        "df1 = pd.read_csv(\"{}/Combined Data Sets - Sheet1.csv\".format(data_dir))\n",
        "df1.columns = ['Date','Imports','Exports',\n",
        "                     'Inflation','Interest_rate','unemployment_rate','gov_spend','CS_household','CS_Abroad','Last_Interest']\n",
        "print(df1.head())\n",
        "df1.dtypes\n",
        "\n",
        "df2=df1.copy()\n",
        "df2=df2.drop(columns=['Last_Interest'])\n",
        "#df2.head()\n"
      ],
      "execution_count": null,
      "outputs": [
        {
          "output_type": "stream",
          "text": [
            "       Date      Imports      Exports  ...  CS_household  CS_Abroad  Last_Interest\n",
            "0  1/1/1995  17924621559  18840767477  ...   35285333333  725666667           7.25\n",
            "1  2/1/1995  18850631132  18961355733  ...   38380333333  168666667           7.25\n",
            "2  3/1/1995  21459631583  21998593463  ...   38380333333  168666667           8.13\n",
            "3  4/1/1995  19209464793  20458908784  ...   38380333333  168666667           8.06\n",
            "4  5/1/1995  20506072605  22890415543  ...   38088000000 -582333333           7.97\n",
            "\n",
            "[5 rows x 10 columns]\n"
          ],
          "name": "stdout"
        },
        {
          "output_type": "execute_result",
          "data": {
            "text/html": [
              "<div>\n",
              "<style scoped>\n",
              "    .dataframe tbody tr th:only-of-type {\n",
              "        vertical-align: middle;\n",
              "    }\n",
              "\n",
              "    .dataframe tbody tr th {\n",
              "        vertical-align: top;\n",
              "    }\n",
              "\n",
              "    .dataframe thead th {\n",
              "        text-align: right;\n",
              "    }\n",
              "</style>\n",
              "<table border=\"1\" class=\"dataframe\">\n",
              "  <thead>\n",
              "    <tr style=\"text-align: right;\">\n",
              "      <th></th>\n",
              "      <th>Date</th>\n",
              "      <th>Imports</th>\n",
              "      <th>Exports</th>\n",
              "      <th>Inflation</th>\n",
              "      <th>Interest_rate</th>\n",
              "      <th>unemployment_rate</th>\n",
              "      <th>gov_spend</th>\n",
              "      <th>CS_household</th>\n",
              "      <th>CS_Abroad</th>\n",
              "    </tr>\n",
              "  </thead>\n",
              "  <tbody>\n",
              "    <tr>\n",
              "      <th>0</th>\n",
              "      <td>1/1/1995</td>\n",
              "      <td>17924621559</td>\n",
              "      <td>18840767477</td>\n",
              "      <td>1.50</td>\n",
              "      <td>7.25</td>\n",
              "      <td>9.633</td>\n",
              "      <td>45302000000</td>\n",
              "      <td>35285333333</td>\n",
              "      <td>725666667</td>\n",
              "    </tr>\n",
              "    <tr>\n",
              "      <th>1</th>\n",
              "      <td>2/1/1995</td>\n",
              "      <td>18850631132</td>\n",
              "      <td>18961355733</td>\n",
              "      <td>1.90</td>\n",
              "      <td>8.13</td>\n",
              "      <td>9.589</td>\n",
              "      <td>45273333333</td>\n",
              "      <td>38380333333</td>\n",
              "      <td>168666667</td>\n",
              "    </tr>\n",
              "    <tr>\n",
              "      <th>2</th>\n",
              "      <td>3/1/1995</td>\n",
              "      <td>21459631583</td>\n",
              "      <td>21998593463</td>\n",
              "      <td>2.30</td>\n",
              "      <td>8.06</td>\n",
              "      <td>9.544</td>\n",
              "      <td>45244666667</td>\n",
              "      <td>38380333333</td>\n",
              "      <td>168666667</td>\n",
              "    </tr>\n",
              "    <tr>\n",
              "      <th>3</th>\n",
              "      <td>4/1/1995</td>\n",
              "      <td>19209464793</td>\n",
              "      <td>20458908784</td>\n",
              "      <td>2.70</td>\n",
              "      <td>7.97</td>\n",
              "      <td>9.500</td>\n",
              "      <td>45216000000</td>\n",
              "      <td>38380333333</td>\n",
              "      <td>168666667</td>\n",
              "    </tr>\n",
              "    <tr>\n",
              "      <th>4</th>\n",
              "      <td>5/1/1995</td>\n",
              "      <td>20506072605</td>\n",
              "      <td>22890415543</td>\n",
              "      <td>2.57</td>\n",
              "      <td>7.59</td>\n",
              "      <td>9.478</td>\n",
              "      <td>45090000000</td>\n",
              "      <td>38088000000</td>\n",
              "      <td>-582333333</td>\n",
              "    </tr>\n",
              "  </tbody>\n",
              "</table>\n",
              "</div>"
            ],
            "text/plain": [
              "       Date      Imports      Exports  ...    gov_spend  CS_household  CS_Abroad\n",
              "0  1/1/1995  17924621559  18840767477  ...  45302000000   35285333333  725666667\n",
              "1  2/1/1995  18850631132  18961355733  ...  45273333333   38380333333  168666667\n",
              "2  3/1/1995  21459631583  21998593463  ...  45244666667   38380333333  168666667\n",
              "3  4/1/1995  19209464793  20458908784  ...  45216000000   38380333333  168666667\n",
              "4  5/1/1995  20506072605  22890415543  ...  45090000000   38088000000 -582333333\n",
              "\n",
              "[5 rows x 9 columns]"
            ]
          },
          "metadata": {
            "tags": []
          },
          "execution_count": 14
        }
      ]
    },
    {
      "cell_type": "code",
      "metadata": {
        "id": "DEqP1Aj3yURt",
        "outputId": "1e7556dd-e0cb-406b-c0d6-a27bb41be799",
        "colab": {
          "base_uri": "https://localhost:8080/",
          "height": 168
        }
      },
      "source": [
        "df.isna().sum() # no data missing\n",
        "\n",
        "\n"
      ],
      "execution_count": null,
      "outputs": [
        {
          "output_type": "execute_result",
          "data": {
            "text/plain": [
              "Date                 0\n",
              "Imports              0\n",
              "Exports              0\n",
              "Inflation            0\n",
              "Interest_rate        0\n",
              "unemployment_rate    0\n",
              "consumer_spend       0\n",
              "gov_spend            0\n",
              "dtype: int64"
            ]
          },
          "metadata": {
            "tags": []
          },
          "execution_count": 9
        }
      ]
    },
    {
      "cell_type": "code",
      "metadata": {
        "id": "_U0XcL8tjrXm",
        "outputId": "60e9804a-c623-4b5f-885f-bdb7f44e7271",
        "colab": {
          "base_uri": "https://localhost:8080/",
          "height": 202
        }
      },
      "source": [
        "df1.isna().sum()"
      ],
      "execution_count": null,
      "outputs": [
        {
          "output_type": "execute_result",
          "data": {
            "text/plain": [
              "Date                 0\n",
              "Imports              0\n",
              "Exports              0\n",
              "Inflation            0\n",
              "Interest_rate        0\n",
              "unemployment_rate    0\n",
              "gov_spend            0\n",
              "CS_household         0\n",
              "CS_Abroad            0\n",
              "Last_Interest        0\n",
              "dtype: int64"
            ]
          },
          "metadata": {
            "tags": []
          },
          "execution_count": 5
        }
      ]
    },
    {
      "cell_type": "code",
      "metadata": {
        "id": "6ayiGCzfi8x1"
      },
      "source": [
        "df = df.set_index(\"Date\")\n",
        "\n",
        "df.index = pd.to_datetime(df.index)\n",
        "\n",
        "\n",
        "df.head()\n",
        "\n",
        "\n",
        "\n",
        "df1=df1.set_index(\"Date\")\n",
        "\n",
        "df1.index = pd.to_datetime(df1.index)\n",
        "\n",
        "\n",
        "\n",
        "df2=df2.set_index(\"Date\")\n",
        "\n",
        "df2.index = pd.to_datetime(df2.index)\n"
      ],
      "execution_count": null,
      "outputs": []
    },
    {
      "cell_type": "code",
      "metadata": {
        "id": "KkDSgE7Iifjh",
        "outputId": "80e15011-8557-4d79-a9b8-e4f78a0e1e16",
        "colab": {
          "base_uri": "https://localhost:8080/",
          "height": 254
        }
      },
      "source": [
        "df.corr() # correlation for UNSPLIT baseline"
      ],
      "execution_count": null,
      "outputs": [
        {
          "output_type": "execute_result",
          "data": {
            "text/html": [
              "<div>\n",
              "<style scoped>\n",
              "    .dataframe tbody tr th:only-of-type {\n",
              "        vertical-align: middle;\n",
              "    }\n",
              "\n",
              "    .dataframe tbody tr th {\n",
              "        vertical-align: top;\n",
              "    }\n",
              "\n",
              "    .dataframe thead th {\n",
              "        text-align: right;\n",
              "    }\n",
              "</style>\n",
              "<table border=\"1\" class=\"dataframe\">\n",
              "  <thead>\n",
              "    <tr style=\"text-align: right;\">\n",
              "      <th></th>\n",
              "      <th>Imports</th>\n",
              "      <th>Exports</th>\n",
              "      <th>Inflation</th>\n",
              "      <th>Interest_rate</th>\n",
              "      <th>unemployment_rate</th>\n",
              "      <th>consumer_spend</th>\n",
              "      <th>gov_spend</th>\n",
              "    </tr>\n",
              "  </thead>\n",
              "  <tbody>\n",
              "    <tr>\n",
              "      <th>Imports</th>\n",
              "      <td>1.000000</td>\n",
              "      <td>0.936835</td>\n",
              "      <td>-0.067758</td>\n",
              "      <td>-0.655374</td>\n",
              "      <td>-0.646182</td>\n",
              "      <td>0.881872</td>\n",
              "      <td>0.865689</td>\n",
              "    </tr>\n",
              "    <tr>\n",
              "      <th>Exports</th>\n",
              "      <td>0.936835</td>\n",
              "      <td>1.000000</td>\n",
              "      <td>0.076814</td>\n",
              "      <td>-0.526838</td>\n",
              "      <td>-0.768182</td>\n",
              "      <td>0.779950</td>\n",
              "      <td>0.756423</td>\n",
              "    </tr>\n",
              "    <tr>\n",
              "      <th>Inflation</th>\n",
              "      <td>-0.067758</td>\n",
              "      <td>0.076814</td>\n",
              "      <td>1.000000</td>\n",
              "      <td>0.288871</td>\n",
              "      <td>-0.258003</td>\n",
              "      <td>-0.176632</td>\n",
              "      <td>-0.186517</td>\n",
              "    </tr>\n",
              "    <tr>\n",
              "      <th>Interest_rate</th>\n",
              "      <td>-0.655374</td>\n",
              "      <td>-0.526838</td>\n",
              "      <td>0.288871</td>\n",
              "      <td>1.000000</td>\n",
              "      <td>0.186175</td>\n",
              "      <td>-0.798649</td>\n",
              "      <td>-0.811847</td>\n",
              "    </tr>\n",
              "    <tr>\n",
              "      <th>unemployment_rate</th>\n",
              "      <td>-0.646182</td>\n",
              "      <td>-0.768182</td>\n",
              "      <td>-0.258003</td>\n",
              "      <td>0.186175</td>\n",
              "      <td>1.000000</td>\n",
              "      <td>-0.536021</td>\n",
              "      <td>-0.480249</td>\n",
              "    </tr>\n",
              "    <tr>\n",
              "      <th>consumer_spend</th>\n",
              "      <td>0.881872</td>\n",
              "      <td>0.779950</td>\n",
              "      <td>-0.176632</td>\n",
              "      <td>-0.798649</td>\n",
              "      <td>-0.536021</td>\n",
              "      <td>1.000000</td>\n",
              "      <td>0.989861</td>\n",
              "    </tr>\n",
              "    <tr>\n",
              "      <th>gov_spend</th>\n",
              "      <td>0.865689</td>\n",
              "      <td>0.756423</td>\n",
              "      <td>-0.186517</td>\n",
              "      <td>-0.811847</td>\n",
              "      <td>-0.480249</td>\n",
              "      <td>0.989861</td>\n",
              "      <td>1.000000</td>\n",
              "    </tr>\n",
              "  </tbody>\n",
              "</table>\n",
              "</div>"
            ],
            "text/plain": [
              "                    Imports   Exports  ...  consumer_spend  gov_spend\n",
              "Imports            1.000000  0.936835  ...        0.881872   0.865689\n",
              "Exports            0.936835  1.000000  ...        0.779950   0.756423\n",
              "Inflation         -0.067758  0.076814  ...       -0.176632  -0.186517\n",
              "Interest_rate     -0.655374 -0.526838  ...       -0.798649  -0.811847\n",
              "unemployment_rate -0.646182 -0.768182  ...       -0.536021  -0.480249\n",
              "consumer_spend     0.881872  0.779950  ...        1.000000   0.989861\n",
              "gov_spend          0.865689  0.756423  ...        0.989861   1.000000\n",
              "\n",
              "[7 rows x 7 columns]"
            ]
          },
          "metadata": {
            "tags": []
          },
          "execution_count": 7
        }
      ]
    },
    {
      "cell_type": "code",
      "metadata": {
        "id": "FIKDIVq_i0Rd",
        "outputId": "8540a412-f682-4e0c-9340-8c7e065c1f0c",
        "colab": {
          "base_uri": "https://localhost:8080/",
          "height": 151
        }
      },
      "source": [
        "def print_heavily_correlated_features(df, threshold=0.7):   #checking for correlation >0.7\n",
        "  corr = df.corr().abs()\n",
        "  corr = corr[corr > threshold]\n",
        "  print(corr.count().sort_values(ascending=False) - 1)\n",
        "\n",
        "print_heavily_correlated_features(df, 0.7)"
      ],
      "execution_count": null,
      "outputs": [
        {
          "output_type": "stream",
          "text": [
            "gov_spend            4\n",
            "consumer_spend       4\n",
            "Exports              4\n",
            "Imports              3\n",
            "Interest_rate        2\n",
            "unemployment_rate    1\n",
            "Inflation            0\n",
            "dtype: int64\n"
          ],
          "name": "stdout"
        }
      ]
    },
    {
      "cell_type": "code",
      "metadata": {
        "id": "emGZoW8tIXxU",
        "colab": {
          "base_uri": "https://localhost:8080/",
          "height": 168
        },
        "outputId": "5bb1239f-7037-422e-958b-cba08e7e09d6"
      },
      "source": [
        "#splitting consumer spending to see if corr has changed\n",
        "df2.corr()\n",
        "\n",
        "\n",
        "print_heavily_correlated_features(df2, 0.7)"
      ],
      "execution_count": null,
      "outputs": [
        {
          "output_type": "stream",
          "text": [
            "gov_spend            5\n",
            "CS_household         4\n",
            "Exports              4\n",
            "Imports              3\n",
            "Interest_rate        2\n",
            "CS_Abroad            1\n",
            "unemployment_rate    1\n",
            "Inflation            0\n",
            "dtype: int64\n"
          ],
          "name": "stdout"
        }
      ]
    },
    {
      "cell_type": "code",
      "metadata": {
        "id": "qvtLqiDCyj5w",
        "outputId": "8702a32c-8d29-4b07-e5cb-f3c9ecdf9040",
        "colab": {
          "base_uri": "https://localhost:8080/",
          "height": 420
        }
      },
      "source": [
        "\n",
        "df_reduced = df2.copy()  #drop top 3\n",
        "\n",
        "# Write your code here.\n",
        "# -------------------\n",
        "\n",
        "\n",
        "df_train = df_reduced['1995-01-01':'2007-12-01']\n",
        "df_test = df_reduced['2008-01-01':]\n",
        "\n",
        "\n",
        "# Partition the training data into features and target\n",
        "X_train = df_train.drop(columns=['Interest_rate','gov_spend','CS_household','Exports'])\n",
        "y_train = df_train.Interest_rate\n",
        "\n",
        "# Fit the model\n",
        "linreg_reduced = LinearRegression()\n",
        "linreg_reduced.fit(X_train, y_train)\n",
        "\n",
        "# Partition the testing data into features and target\n",
        "X_test = df_test.drop(columns=['Interest_rate','gov_spend','CS_household','Exports'])\n",
        "y_test = df_test.Interest_rate\n",
        "\n",
        "# Predict the number of wins\n",
        "print(linreg_reduced.predict(X_test))\n",
        "\n",
        "#test Scores:\n",
        "train_score = linreg_reduced.score(X_train, y_train)\n",
        "test_score = linreg_reduced.score(X_test, y_test)\n",
        "\n",
        "\n",
        "betas = pd.Series(linreg_reduced.coef_, index=X_train.columns)\n",
        "betas = betas.append(pd.Series({\"Intercept\": linreg_reduced.intercept_}))\n",
        "print(betas)\n",
        "print('\\nThe train score is {} and the test score is {}'.format(train_score, test_score))"
      ],
      "execution_count": null,
      "outputs": [
        {
          "output_type": "stream",
          "text": [
            "[3.14696353 2.99202613 2.24256713 2.92626769 2.69019672 2.984381\n",
            " 3.89813017 3.30839913 3.50729769 2.43951989 2.53443921 3.11113159\n",
            " 3.4078823  3.1352173  2.37513401 2.81898488 2.52684626 2.68683334\n",
            " 3.36839019 3.06379269 3.41033112 2.69304556 2.93922002 3.6081647\n",
            " 2.87420256 2.68345937 1.9810652  2.60909579 2.37187206 2.61777107\n",
            " 3.43731652 3.03885083 3.38363211 2.55283071 2.79468633 3.48156954\n",
            " 2.60949441 2.44077539 1.70058945 2.43562101 2.1492664  2.40852642\n",
            " 3.30511607 2.79341036 3.07861832 2.06328044 2.31214182 3.04843586\n",
            " 2.44975771 2.18326987 1.34345848 2.02690645 1.71579265 1.96894087\n",
            " 2.8813527  2.37915941 2.69521142 1.66303067 1.94396275 2.72096961\n",
            " 2.14808885 1.8941582  1.05216536 1.77799212 1.50087493 1.79497092\n",
            " 2.76489546 2.24415522 2.57271388 1.51343103 1.82180793 2.64642272\n",
            " 1.80697964 1.58708197 0.71598185 1.53602706 1.20609365 1.49665799\n",
            " 2.51507351 1.9752845  2.36184418 1.25544917 1.51881131 2.32615152\n",
            " 1.52883815 1.26734434 0.30874988 1.11892709 0.76819682 1.07756601\n",
            " 2.1514002  1.55379451 1.92686589 0.73550722 1.09688552 1.99636839]\n",
            "Imports             -1.531336e-10\n",
            "Inflation            1.391093e-01\n",
            "unemployment_rate   -2.696852e-01\n",
            "CS_Abroad           -1.313947e-10\n",
            "Intercept            1.003014e+01\n",
            "dtype: float64\n",
            "\n",
            "The train score is 0.15480789868719524 and the test score is -2.800174732111539\n"
          ],
          "name": "stdout"
        }
      ]
    },
    {
      "cell_type": "code",
      "metadata": {
        "id": "aGQuk77BLE20",
        "colab": {
          "base_uri": "https://localhost:8080/",
          "height": 188
        },
        "outputId": "f9fb673a-4969-4720-b4e7-912d049e37f5"
      },
      "source": [
        "df_reduced1 = df2.copy()  #TRY LASSO MODEL  - didnt help score, linear regression NOT GOOD on baseline\n",
        "\n",
        "df_train = df_reduced1['1995-01-01':'2007-12-01']\n",
        "df_test = df_reduced1['2008-01-01':]\n",
        "\n",
        "\n",
        "# Partition the training data into features and target\n",
        "X_train = df_train.drop(columns=['Interest_rate','gov_spend','CS_household','Exports'])\n",
        "y_train = df_train.Interest_rate\n",
        "\n",
        "# Fit the model\n",
        "lasso = LassoCV()\n",
        "lasso.fit(X_train, y_train)\n",
        "\n",
        "# Partition the testing data into features and target\n",
        "X_test = df_test.drop(columns=['Interest_rate','gov_spend','CS_household','Exports'])\n",
        "y_test = df_test.Interest_rate\n",
        "\n",
        "# calculate the score\n",
        "train_score = lasso.score(X_train, y_train)\n",
        "test_score = lasso.score(X_test, y_test)\n",
        "print('The train score is {} and the test score is {}'.format(train_score, test_score))\n",
        "\n",
        "# calculate betas\n",
        "betas = pd.Series(lasso.coef_, index=X_train.columns)\n",
        "betas = betas.append(pd.Series({\"Intercept\": lasso.intercept_}))\n",
        "print(betas)"
      ],
      "execution_count": null,
      "outputs": [
        {
          "output_type": "stream",
          "text": [
            "The train score is 0.13328415481339173 and the test score is -6.786618962525626\n",
            "Imports             -8.965831e-11\n",
            "Inflation            0.000000e+00\n",
            "unemployment_rate   -0.000000e+00\n",
            "CS_Abroad           -0.000000e+00\n",
            "Intercept            6.495144e+00\n",
            "dtype: float64\n"
          ],
          "name": "stdout"
        },
        {
          "output_type": "stream",
          "text": [
            "/usr/local/lib/python3.6/dist-packages/sklearn/model_selection/_split.py:1978: FutureWarning: The default value of cv will change from 3 to 5 in version 0.22. Specify it explicitly to silence this warning.\n",
            "  warnings.warn(CV_WARNING, FutureWarning)\n"
          ],
          "name": "stderr"
        }
      ]
    },
    {
      "cell_type": "code",
      "metadata": {
        "id": "0v7j_uZqLlvw",
        "colab": {
          "base_uri": "https://localhost:8080/",
          "height": 437
        },
        "outputId": "fd0fddbe-340b-4904-bce9-e317b2194477"
      },
      "source": [
        "df_reduced = df1.copy()  #TRY REcursive DATA WITH LIN REG - much better score \n",
        "\n",
        "# Write your code here.\n",
        "# -------------------\n",
        "\n",
        "\n",
        "df_train = df_reduced['1995-01-01':'2007-12-01']\n",
        "df_test = df_reduced['2008-01-01':]\n",
        "\n",
        "\n",
        "# Partition the training data into features and target\n",
        "X_train = df_train.drop(columns=['Interest_rate','gov_spend','CS_household','Exports'])\n",
        "y_train = df_train.Interest_rate\n",
        "\n",
        "# Fit the model\n",
        "linreg_reduced = LinearRegression()\n",
        "linreg_reduced.fit(X_train, y_train)\n",
        "\n",
        "# Partition the testing data into features and target\n",
        "X_test = df_test.drop(columns=['Interest_rate','gov_spend','CS_household','Exports'])\n",
        "y_test = df_test.Interest_rate\n",
        "\n",
        "# Predict the number of wins\n",
        "print(linreg_reduced.predict(X_test))\n",
        "\n",
        "#test Scores:\n",
        "train_score = linreg_reduced.score(X_train, y_train)\n",
        "test_score = linreg_reduced.score(X_test, y_test)\n",
        "\n",
        "\n",
        "betas = pd.Series(linreg_reduced.coef_, index=X_train.columns)\n",
        "betas = betas.append(pd.Series({\"Intercept\": linreg_reduced.intercept_}))\n",
        "print(betas)\n",
        "print('\\nThe train score is {} and the test score is {}'.format(train_score, test_score))"
      ],
      "execution_count": null,
      "outputs": [
        {
          "output_type": "stream",
          "text": [
            "[4.28045642 4.03212964 4.00996355 3.53447494 3.0351436  3.03364392\n",
            " 3.04726467 3.03245689 3.03909499 3.01466273 2.2647613  2.26403985\n",
            " 1.52394345 1.02762368 1.00493098 0.52366209 0.2807082  0.29034045\n",
            " 0.31263017 0.29448725 0.29407591 0.26719784 0.26682956 0.28187923\n",
            " 0.2621521  0.26443349 0.25202241 0.27260161 0.26665189 0.26832073\n",
            " 0.52859882 0.76402254 0.77625261 1.00348571 1.00251652 1.01694194\n",
            " 0.99294235 0.98830558 0.96752839 0.98296166 0.98559615 0.99794918\n",
            " 1.02581292 1.01237798 1.02061066 0.99658954 0.99891566 1.01768127\n",
            " 1.00378838 1.00695924 0.99402875 1.01888909 1.01843027 1.02796711\n",
            " 1.05355528 1.04104612 1.05002485 1.02597063 1.03047408 1.0519889\n",
            " 1.04003374 1.03847526 1.02048142 1.04132912 1.03609341 1.04004497\n",
            " 1.0608524  1.04810413 1.05791472 1.03371608 1.03406868 1.05227094\n",
            " 1.02925959 1.02088598 0.99426408 1.0091272  1.00723171 1.01558222\n",
            " 1.04207084 1.03106869 1.04535647 1.0228461  1.03045159 1.05656332\n",
            " 1.04292562 1.03800689 0.76858443 0.78698281 0.7793974  0.78373961\n",
            " 0.80667854 0.78722551 0.54983331 0.51825612 0.51916435 0.53721153]\n",
            "Imports             -3.774419e-12\n",
            "Inflation           -1.638329e-02\n",
            "unemployment_rate   -5.424627e-02\n",
            "CS_Abroad           -8.114422e-12\n",
            "Last_Interest        9.768975e-01\n",
            "Intercept            6.269938e-01\n",
            "dtype: float64\n",
            "\n",
            "The train score is 0.9738606595035747 and the test score is 0.9541965727287319\n"
          ],
          "name": "stdout"
        }
      ]
    },
    {
      "cell_type": "code",
      "metadata": {
        "id": "CUcIIwH_Qw9f",
        "colab": {
          "base_uri": "https://localhost:8080/",
          "height": 225
        },
        "outputId": "076597dd-e81c-45a4-9081-416666155464"
      },
      "source": [
        "df1_N = df1.copy()  #STANDADIZING IMPORTS AND CS_ABROAD COLUMNS\n",
        "\n",
        "\n",
        "from sklearn.preprocessing import StandardScaler\n",
        "scaler = StandardScaler()\n",
        "\n",
        "df1_N[['Imports','CS_Abroad']]=scaler.fit_transform(df1_N[['Imports','CS_Abroad']].values)\n",
        "df1_N.head()"
      ],
      "execution_count": null,
      "outputs": [
        {
          "output_type": "execute_result",
          "data": {
            "text/html": [
              "<div>\n",
              "<style scoped>\n",
              "    .dataframe tbody tr th:only-of-type {\n",
              "        vertical-align: middle;\n",
              "    }\n",
              "\n",
              "    .dataframe tbody tr th {\n",
              "        vertical-align: top;\n",
              "    }\n",
              "\n",
              "    .dataframe thead th {\n",
              "        text-align: right;\n",
              "    }\n",
              "</style>\n",
              "<table border=\"1\" class=\"dataframe\">\n",
              "  <thead>\n",
              "    <tr style=\"text-align: right;\">\n",
              "      <th></th>\n",
              "      <th>Imports</th>\n",
              "      <th>Exports</th>\n",
              "      <th>Inflation</th>\n",
              "      <th>Interest_rate</th>\n",
              "      <th>unemployment_rate</th>\n",
              "      <th>gov_spend</th>\n",
              "      <th>CS_household</th>\n",
              "      <th>CS_Abroad</th>\n",
              "      <th>Last_Interest</th>\n",
              "    </tr>\n",
              "    <tr>\n",
              "      <th>Date</th>\n",
              "      <th></th>\n",
              "      <th></th>\n",
              "      <th></th>\n",
              "      <th></th>\n",
              "      <th></th>\n",
              "      <th></th>\n",
              "      <th></th>\n",
              "      <th></th>\n",
              "      <th></th>\n",
              "    </tr>\n",
              "  </thead>\n",
              "  <tbody>\n",
              "    <tr>\n",
              "      <th>1995-01-01</th>\n",
              "      <td>-1.857937</td>\n",
              "      <td>18840767477</td>\n",
              "      <td>1.50</td>\n",
              "      <td>7.25</td>\n",
              "      <td>9.633</td>\n",
              "      <td>45302000000</td>\n",
              "      <td>35285333333</td>\n",
              "      <td>0.131173</td>\n",
              "      <td>7.25</td>\n",
              "    </tr>\n",
              "    <tr>\n",
              "      <th>1995-02-01</th>\n",
              "      <td>-1.730230</td>\n",
              "      <td>18961355733</td>\n",
              "      <td>1.90</td>\n",
              "      <td>8.13</td>\n",
              "      <td>9.589</td>\n",
              "      <td>45273333333</td>\n",
              "      <td>38380333333</td>\n",
              "      <td>-0.525404</td>\n",
              "      <td>7.25</td>\n",
              "    </tr>\n",
              "    <tr>\n",
              "      <th>1995-03-01</th>\n",
              "      <td>-1.370422</td>\n",
              "      <td>21998593463</td>\n",
              "      <td>2.30</td>\n",
              "      <td>8.06</td>\n",
              "      <td>9.544</td>\n",
              "      <td>45244666667</td>\n",
              "      <td>38380333333</td>\n",
              "      <td>-0.525404</td>\n",
              "      <td>8.13</td>\n",
              "    </tr>\n",
              "    <tr>\n",
              "      <th>1995-04-01</th>\n",
              "      <td>-1.680743</td>\n",
              "      <td>20458908784</td>\n",
              "      <td>2.70</td>\n",
              "      <td>7.97</td>\n",
              "      <td>9.500</td>\n",
              "      <td>45216000000</td>\n",
              "      <td>38380333333</td>\n",
              "      <td>-0.525404</td>\n",
              "      <td>8.06</td>\n",
              "    </tr>\n",
              "    <tr>\n",
              "      <th>1995-05-01</th>\n",
              "      <td>-1.501928</td>\n",
              "      <td>22890415543</td>\n",
              "      <td>2.57</td>\n",
              "      <td>7.59</td>\n",
              "      <td>9.478</td>\n",
              "      <td>45090000000</td>\n",
              "      <td>38088000000</td>\n",
              "      <td>-1.410664</td>\n",
              "      <td>7.97</td>\n",
              "    </tr>\n",
              "  </tbody>\n",
              "</table>\n",
              "</div>"
            ],
            "text/plain": [
              "             Imports      Exports  ...  CS_Abroad  Last_Interest\n",
              "Date                               ...                          \n",
              "1995-01-01 -1.857937  18840767477  ...   0.131173           7.25\n",
              "1995-02-01 -1.730230  18961355733  ...  -0.525404           7.25\n",
              "1995-03-01 -1.370422  21998593463  ...  -0.525404           8.13\n",
              "1995-04-01 -1.680743  20458908784  ...  -0.525404           8.06\n",
              "1995-05-01 -1.501928  22890415543  ...  -1.410664           7.97\n",
              "\n",
              "[5 rows x 9 columns]"
            ]
          },
          "metadata": {
            "tags": []
          },
          "execution_count": 44
        }
      ]
    },
    {
      "cell_type": "code",
      "metadata": {
        "id": "m6G8AsoMM65r",
        "colab": {
          "base_uri": "https://localhost:8080/",
          "height": 437
        },
        "outputId": "1da0cd31-bcb5-4cb9-dd33-2c07c9ca3cd6"
      },
      "source": [
        "#RUNNING REG ON THAT - no difference(TA plz?)\n",
        "\n",
        "df_reduced = df1_N.copy()  #TRY REcursive DATA WITH LIN REG - much better score \n",
        "\n",
        "# Write your code here.\n",
        "# -------------------\n",
        "\n",
        "\n",
        "df_train = df_reduced['1995-01-01':'2007-12-01']\n",
        "df_test = df_reduced['2008-01-01':]\n",
        "\n",
        "\n",
        "# Partition the training data into features and target\n",
        "X_train = df_train.drop(columns=['Interest_rate','gov_spend','CS_household','Exports'])\n",
        "y_train = df_train.Interest_rate\n",
        "\n",
        "# Fit the model\n",
        "linreg_reduced = LinearRegression()\n",
        "linreg_reduced.fit(X_train, y_train)\n",
        "\n",
        "# Partition the testing data into features and target\n",
        "X_test = df_test.drop(columns=['Interest_rate','gov_spend','CS_household','Exports'])\n",
        "y_test = df_test.Interest_rate\n",
        "\n",
        "# Predict the number of wins\n",
        "print(linreg_reduced.predict(X_test))\n",
        "\n",
        "#test Scores:\n",
        "train_score = linreg_reduced.score(X_train, y_train)\n",
        "test_score = linreg_reduced.score(X_test, y_test)\n",
        "\n",
        "\n",
        "betas = pd.Series(linreg_reduced.coef_, index=X_train.columns)\n",
        "betas = betas.append(pd.Series({\"Intercept\": linreg_reduced.intercept_}))\n",
        "print(betas)\n",
        "print('\\nThe train score is {} and the test score is {}'.format(train_score, test_score))"
      ],
      "execution_count": null,
      "outputs": [
        {
          "output_type": "stream",
          "text": [
            "[4.28045642 4.03212964 4.00996355 3.53447495 3.0351436  3.03364392\n",
            " 3.04726467 3.03245689 3.03909499 3.01466273 2.2647613  2.26403986\n",
            " 1.52394345 1.02762368 1.00493099 0.52366209 0.2807082  0.29034045\n",
            " 0.31263018 0.29448725 0.29407591 0.26719784 0.26682957 0.28187924\n",
            " 0.26215211 0.26443349 0.25202242 0.27260161 0.26665189 0.26832073\n",
            " 0.52859882 0.76402254 0.77625261 1.00348571 1.00251653 1.01694195\n",
            " 0.99294235 0.98830558 0.96752839 0.98296166 0.98559615 0.99794918\n",
            " 1.02581292 1.01237798 1.02061067 0.99658954 0.99891566 1.01768128\n",
            " 1.00378839 1.00695924 0.99402875 1.01888909 1.01843027 1.02796711\n",
            " 1.05355528 1.04104612 1.05002485 1.02597063 1.03047409 1.05198891\n",
            " 1.04003375 1.03847527 1.02048142 1.04132912 1.03609341 1.04004497\n",
            " 1.0608524  1.04810413 1.05791472 1.03371608 1.03406869 1.05227095\n",
            " 1.02925959 1.02088598 0.99426408 1.00912721 1.00723171 1.01558222\n",
            " 1.04207085 1.03106869 1.04535648 1.0228461  1.0304516  1.05656332\n",
            " 1.04292562 1.03800689 0.76858443 0.78698281 0.7793974  0.78373961\n",
            " 0.80667854 0.78722552 0.54983331 0.51825612 0.51916436 0.53721154]\n",
            "Imports             -0.027369\n",
            "Inflation           -0.016383\n",
            "unemployment_rate   -0.054246\n",
            "CS_Abroad           -0.006884\n",
            "Last_Interest        0.976897\n",
            "Intercept            0.503504\n",
            "dtype: float64\n",
            "\n",
            "The train score is 0.9738606595035747 and the test score is 0.9541965720719763\n"
          ],
          "name": "stdout"
        }
      ]
    },
    {
      "cell_type": "code",
      "metadata": {
        "id": "feu1iOA0TvN3"
      },
      "source": [
        "#USING Crossvalidation to see how many estimataors we need for RF(RUNNING THIS WILL TAKE A WHILE)\n",
        "\n",
        "\n",
        "\n",
        "# We have made a copy of the data frame\n",
        "df_reduced = df1.copy()\n",
        "\n",
        "# Write your code here.\n",
        "# -------------------\n",
        "\n",
        "\n",
        "df_train = df_reduced['1995-01-01':'2007-12-01']\n",
        "df_test = df_reduced['2008-01-01':]\n",
        "\n",
        "\n",
        "# Partition the training data into features and target\n",
        "X_train = df_train.drop(columns=['Interest_rate','gov_spend','CS_household','Exports'])\n",
        "y_train = df_train.Interest_rate\n",
        "\n",
        "\n",
        "\n",
        "# Partition the testing data into features and target\n",
        "X_test = df_test.drop(columns=['Interest_rate','gov_spend','CS_household','Exports'])\n",
        "y_test = df_test.Interest_rate\n",
        "\n",
        "from sklearn.model_selection import cross_validate\n",
        "from sklearn.ensemble import RandomForestRegressor\n",
        "\n",
        "# Initailize cross validation score DataFrame\n",
        "depth_lb = 1\n",
        "depth_ub = 200\n",
        "cv_scores = pd.Series(index=np.arange(depth_lb, depth_ub))\n",
        "\n",
        "for max_depth in range(depth_lb, depth_ub):\n",
        "  \n",
        "  # Initialize the model\n",
        "  rf_cv1_model = RandomForestRegressor(n_estimators=max_depth, random_state=0)\n",
        "\n",
        "  # Run cross validation to get measure of out-of-sample error\n",
        "  example_cv_results = cross_validate(rf_cv1_model, X_train, y_train, cv=5)\n",
        "  \n",
        "  # Record the average out-of-sample error\n",
        "  cv_scores.loc[max_depth] = example_cv_results['test_score'].mean()"
      ],
      "execution_count": null,
      "outputs": []
    },
    {
      "cell_type": "code",
      "metadata": {
        "id": "Bqct0UwzVtUx",
        "colab": {
          "base_uri": "https://localhost:8080/",
          "height": 296
        },
        "outputId": "e1fc8c13-a4f8-4aef-d2ea-e650347c40de"
      },
      "source": [
        "#RUN THIS TO GET NUMBER OF ESTIMATORS\n",
        "\n",
        "\n",
        "sns.scatterplot(x=cv_scores.index, y=cv_scores.values)\n",
        "plt.xlabel('estimators')\n",
        "plt.ylabel('Score')\n",
        "\n",
        "maxnum=cv_scores.idxmax()\n",
        "maxnum"
      ],
      "execution_count": null,
      "outputs": [
        {
          "output_type": "execute_result",
          "data": {
            "text/plain": [
              "9"
            ]
          },
          "metadata": {
            "tags": []
          },
          "execution_count": 57
        },
        {
          "output_type": "display_data",
          "data": {
            "image/png": "[encoded data removed]",
            "text/plain": [
              "<Figure size 432x288 with 1 Axes>"
            ]
          },
          "metadata": {
            "tags": []
          }
        }
      ]
    },
    {
      "cell_type": "code",
      "metadata": {
        "id": "KjEBuoioWYOM",
        "colab": {
          "base_uri": "https://localhost:8080/",
          "height": 101
        },
        "outputId": "27088ccf-a845-4b70-a1d3-58a6389a0ddf"
      },
      "source": [
        "#FINALLY RUN RF   \n",
        "\n",
        "regressor = RandomForestRegressor(n_estimators=maxnum, random_state=0, max_features = .9)\n",
        "regressor.fit(X_train, y_train)\n",
        "y_pred = regressor.predict(X_test)\n",
        "\n",
        "\n",
        "# Predict the number of wins\n",
        "#print(linreg_reduced.predict(X_test))\n",
        "\n",
        "#test Scores:\n",
        "train_score = regressor.score(X_train, y_train)\n",
        "test_score = regressor.score(X_test, y_test)\n",
        "\n",
        "\n",
        "\n",
        "print('\\nThe train score is {} and the test score is {}'.format(train_score, test_score))\n",
        "\n",
        "\n",
        "\n",
        "\n",
        "from sklearn import metrics\n",
        "\n",
        "print('Mean Absolute Error:', metrics.mean_absolute_error(y_test, y_pred))\n",
        "print('Mean Squared Error:', metrics.mean_squared_error(y_test, y_pred))\n",
        "print('Root Mean Squared Error:', np.sqrt(metrics.mean_squared_error(y_test, y_pred)))"
      ],
      "execution_count": null,
      "outputs": [
        {
          "output_type": "stream",
          "text": [
            "\n",
            "The train score is 0.8992250603307784 and the test score is -5.84709744870685\n",
            "Mean Absolute Error: 1.9143518518518519\n",
            "Mean Squared Error: 4.362461419753086\n",
            "Root Mean Squared Error: 2.088650621753932\n"
          ],
          "name": "stdout"
        }
      ]
    }
  ]
}