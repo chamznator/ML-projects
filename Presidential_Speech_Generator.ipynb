{
  "nbformat": 4,
  "nbformat_minor": 0,
  "metadata": {
    "colab": {
      "provenance": [],
      "collapsed_sections": [],
      "authorship_tag": "ABX9TyPB/XyyDjKtcOSdU9EOHV/6",
      "include_colab_link": true
    },
    "kernelspec": {
      "name": "python3",
      "display_name": "Python 3"
    },
    "language_info": {
      "name": "python"
    },
    "accelerator": "GPU"
  },
  "cells": [
    {
      "cell_type": "markdown",
      "metadata": {
        "id": "view-in-github",
        "colab_type": "text"
      },
      "source": [
        "<a href=\"https://colab.research.google.com/github/chamznator/ML-projects/blob/main/Presidential_Speech_Generator.ipynb\" target=\"_parent\"><img src=\"https://colab.research.google.com/assets/colab-badge.svg\" alt=\"Open In Colab\"/></a>"
      ]
    },
    {
      "cell_type": "code",
      "source": [
        "!apt install --allow-change-held-packages libcudnn8=8.4.1.50-1+cuda11.6"
      ],
      "metadata": {
        "colab": {
          "base_uri": "https://localhost:8080/"
        },
        "id": "DwAczF_n0WuP",
        "outputId": "e43c8c8d-2cbb-40e3-ad52-a372bd543da5"
      },
      "execution_count": null,
      "outputs": [
        {
          "output_type": "stream",
          "name": "stdout",
          "text": [
            "Reading package lists... Done\n",
            "Building dependency tree       \n",
            "Reading state information... Done\n",
            "The following package was automatically installed and is no longer required:\n",
            "  libnvidia-common-460\n",
            "Use 'apt autoremove' to remove it.\n",
            "The following packages will be REMOVED:\n",
            "  libcudnn8-dev\n",
            "The following held packages will be changed:\n",
            "  libcudnn8\n",
            "The following packages will be upgraded:\n",
            "  libcudnn8\n",
            "1 upgraded, 0 newly installed, 1 to remove and 18 not upgraded.\n",
            "Need to get 420 MB of archives.\n",
            "After this operation, 3,369 MB disk space will be freed.\n",
            "Get:1 https://developer.download.nvidia.com/compute/cuda/repos/ubuntu1804/x86_64  libcudnn8 8.4.1.50-1+cuda11.6 [420 MB]\n",
            "32% [1 libcudnn8 169 MB/420 MB 40%]\u001b[0m^C\n"
          ]
        }
      ]
    },
    {
      "cell_type": "code",
      "source": [
        "import numpy as np \n",
        "import matplotlib.pyplot as plt\n",
        "from tensorflow.keras.models import Sequential\n",
        "from tensorflow.keras.utils import to_categorical \n",
        "from tensorflow.keras.preprocessing.text import Tokenizer\n",
        "from tensorflow.keras.preprocessing.sequence import pad_sequences\n",
        "from tensorflow.keras.layers import Embedding, LSTM, Dense, Bidirectional,Dropout\n",
        "from tensorflow.keras import regularizers\n",
        "import csv\n",
        "import pandas as pd \n",
        "from keras.callbacks import *"
      ],
      "metadata": {
        "id": "z77MTIym0SEL"
      },
      "execution_count": null,
      "outputs": []
    },
    {
      "cell_type": "code",
      "source": [
        "!nvidia-smi -L"
      ],
      "metadata": {
        "colab": {
          "base_uri": "https://localhost:8080/"
        },
        "id": "v8WCJ0Q0R9Pc",
        "outputId": "37a78711-f3cc-46ff-e376-2a320bfb6ae0"
      },
      "execution_count": null,
      "outputs": [
        {
          "output_type": "stream",
          "name": "stdout",
          "text": [
            "GPU 0: Tesla T4 (UUID: GPU-2b05a7e5-7876-6c01-7f29-0f8f0d3f9373)\n"
          ]
        }
      ]
    },
    {
      "cell_type": "code",
      "source": [
        "from google.colab import drive\n",
        "drive.mount('/content/gdrive')"
      ],
      "metadata": {
        "colab": {
          "base_uri": "https://localhost:8080/"
        },
        "id": "lu6HaoTzn7Aq",
        "outputId": "7dc34c94-712d-4766-b56a-8335a4aef15c"
      },
      "execution_count": null,
      "outputs": [
        {
          "output_type": "stream",
          "name": "stdout",
          "text": [
            "Drive already mounted at /content/gdrive; to attempt to forcibly remount, call drive.mount(\"/content/gdrive\", force_remount=True).\n"
          ]
        }
      ]
    },
    {
      "cell_type": "code",
      "execution_count": null,
      "metadata": {
        "colab": {
          "base_uri": "https://localhost:8080/"
        },
        "id": "dRHT7hsVU_cH",
        "outputId": "b812c7c1-9e0c-4581-f15c-f4816038b4bf"
      },
      "outputs": [
        {
          "output_type": "stream",
          "name": "stdout",
          "text": [
            "Looking in indexes: https://pypi.org/simple, https://us-python.pkg.dev/colab-wheels/public/simple/\n",
            "Requirement already satisfied: kaggle in /usr/local/lib/python3.7/dist-packages (1.5.12)\n",
            "Requirement already satisfied: python-slugify in /usr/local/lib/python3.7/dist-packages (from kaggle) (6.1.2)\n",
            "Requirement already satisfied: tqdm in /usr/local/lib/python3.7/dist-packages (from kaggle) (4.64.1)\n",
            "Requirement already satisfied: requests in /usr/local/lib/python3.7/dist-packages (from kaggle) (2.23.0)\n",
            "Requirement already satisfied: six>=1.10 in /usr/local/lib/python3.7/dist-packages (from kaggle) (1.15.0)\n",
            "Requirement already satisfied: certifi in /usr/local/lib/python3.7/dist-packages (from kaggle) (2022.6.15)\n",
            "Requirement already satisfied: urllib3 in /usr/local/lib/python3.7/dist-packages (from kaggle) (1.24.3)\n",
            "Requirement already satisfied: python-dateutil in /usr/local/lib/python3.7/dist-packages (from kaggle) (2.8.2)\n",
            "Requirement already satisfied: text-unidecode>=1.3 in /usr/local/lib/python3.7/dist-packages (from python-slugify->kaggle) (1.3)\n",
            "Requirement already satisfied: idna<3,>=2.5 in /usr/local/lib/python3.7/dist-packages (from requests->kaggle) (2.10)\n",
            "Requirement already satisfied: chardet<4,>=3.0.2 in /usr/local/lib/python3.7/dist-packages (from requests->kaggle) (3.0.4)\n"
          ]
        }
      ],
      "source": [
        "! pip install kaggle"
      ]
    },
    {
      "cell_type": "code",
      "source": [
        "! mkdir ~/.kaggle"
      ],
      "metadata": {
        "colab": {
          "base_uri": "https://localhost:8080/"
        },
        "id": "L5i5nu5IVIkB",
        "outputId": "a201c9e3-f873-4248-c32b-a2d625806400"
      },
      "execution_count": null,
      "outputs": [
        {
          "output_type": "stream",
          "name": "stdout",
          "text": [
            "mkdir: cannot create directory ‘/root/.kaggle’: File exists\n"
          ]
        }
      ]
    },
    {
      "cell_type": "code",
      "source": [
        "! cp kaggle.json  ~/.kaggle/\n"
      ],
      "metadata": {
        "id": "5bEBwmkzVK40"
      },
      "execution_count": null,
      "outputs": []
    },
    {
      "cell_type": "code",
      "source": [
        "! chmod 600 ~/.kaggle/kaggle.json\n"
      ],
      "metadata": {
        "id": "JOFYo09IVWq2"
      },
      "execution_count": null,
      "outputs": []
    },
    {
      "cell_type": "code",
      "source": [
        "! kaggle datasets download littleotter/united-states-presidential-speeches"
      ],
      "metadata": {
        "colab": {
          "base_uri": "https://localhost:8080/"
        },
        "id": "eJf53T86Vhge",
        "outputId": "96ebc96e-7427-4559-d943-6abd41c05a8f"
      },
      "execution_count": null,
      "outputs": [
        {
          "output_type": "stream",
          "name": "stdout",
          "text": [
            "united-states-presidential-speeches.zip: Skipping, found more recently modified local copy (use --force to force download)\n"
          ]
        }
      ]
    },
    {
      "cell_type": "code",
      "source": [
        "! unzip united-states-presidential-speeches"
      ],
      "metadata": {
        "colab": {
          "base_uri": "https://localhost:8080/"
        },
        "id": "FKq6W32oVyzX",
        "outputId": "c45f22d2-5929-4aff-93fb-4be0df70fece"
      },
      "execution_count": null,
      "outputs": [
        {
          "output_type": "stream",
          "name": "stdout",
          "text": [
            "Archive:  united-states-presidential-speeches.zip\n",
            "replace corpus.csv? [y]es, [n]o, [A]ll, [N]one, [r]ename: N\n"
          ]
        }
      ]
    },
    {
      "cell_type": "code",
      "source": [
        "df1 = pd.read_csv('presidential_speeches.csv', delimiter=',')"
      ],
      "metadata": {
        "id": "Lgfr88lm330m"
      },
      "execution_count": null,
      "outputs": []
    },
    {
      "cell_type": "code",
      "source": [
        "df1.head(5)"
      ],
      "metadata": {
        "id": "3jzxc83p4FDr",
        "colab": {
          "base_uri": "https://localhost:8080/",
          "height": 337
        },
        "outputId": "bd58cf3e-8058-4adc-b792-7ed921f303fd"
      },
      "execution_count": null,
      "outputs": [
        {
          "output_type": "execute_result",
          "data": {
            "text/plain": [
              "         Date          President         Party  \\\n",
              "0  1789-04-30  George Washington  Unaffiliated   \n",
              "1  1789-10-03  George Washington  Unaffiliated   \n",
              "2  1790-01-08  George Washington  Unaffiliated   \n",
              "3  1790-12-08  George Washington  Unaffiliated   \n",
              "4  1790-12-29  George Washington  Unaffiliated   \n",
              "\n",
              "                                        Speech Title  \\\n",
              "0                            First Inaugural Address   \n",
              "1                          Thanksgiving Proclamation   \n",
              "2                   First Annual Message to Congress   \n",
              "3                  Second Annual Message to Congress   \n",
              "4  Talk to the Chiefs and Counselors of the Senec...   \n",
              "\n",
              "                                             Summary  \\\n",
              "0  Washington calls on Congress to avoid local an...   \n",
              "1  At the request of Congress, Washington establi...   \n",
              "2  In a wide ranging speech, President Washington...   \n",
              "3  Washington focuses on commerce in his second a...   \n",
              "4  The President reassures the Seneca Nation that...   \n",
              "\n",
              "                                          Transcript  \\\n",
              "0  Fellow Citizens of the Senate and the House of...   \n",
              "1  Whereas it is the duty of all Nations to ackno...   \n",
              "2  Fellow Citizens of the Senate and House of Rep...   \n",
              "3  Fellow citizens of the Senate and House of Rep...   \n",
              "4  I the President of the United States, by my ow...   \n",
              "\n",
              "                                                 URL  \n",
              "0  https://millercenter.org/the-presidency/presid...  \n",
              "1  https://millercenter.org/the-presidency/presid...  \n",
              "2  https://millercenter.org/the-presidency/presid...  \n",
              "3  https://millercenter.org/the-presidency/presid...  \n",
              "4  https://millercenter.org/the-presidency/presid...  "
            ],
            "text/html": [
              "\n",
              "  <div id=\"df-cc0ba121-6711-4e13-aa7d-cb3cf83ae7bf\">\n",
              "    <div class=\"colab-df-container\">\n",
              "      <div>\n",
              "<style scoped>\n",
              "    .dataframe tbody tr th:only-of-type {\n",
              "        vertical-align: middle;\n",
              "    }\n",
              "\n",
              "    .dataframe tbody tr th {\n",
              "        vertical-align: top;\n",
              "    }\n",
              "\n",
              "    .dataframe thead th {\n",
              "        text-align: right;\n",
              "    }\n",
              "</style>\n",
              "<table border=\"1\" class=\"dataframe\">\n",
              "  <thead>\n",
              "    <tr style=\"text-align: right;\">\n",
              "      <th></th>\n",
              "      <th>Date</th>\n",
              "      <th>President</th>\n",
              "      <th>Party</th>\n",
              "      <th>Speech Title</th>\n",
              "      <th>Summary</th>\n",
              "      <th>Transcript</th>\n",
              "      <th>URL</th>\n",
              "    </tr>\n",
              "  </thead>\n",
              "  <tbody>\n",
              "    <tr>\n",
              "      <th>0</th>\n",
              "      <td>1789-04-30</td>\n",
              "      <td>George Washington</td>\n",
              "      <td>Unaffiliated</td>\n",
              "      <td>First Inaugural Address</td>\n",
              "      <td>Washington calls on Congress to avoid local an...</td>\n",
              "      <td>Fellow Citizens of the Senate and the House of...</td>\n",
              "      <td>https://millercenter.org/the-presidency/presid...</td>\n",
              "    </tr>\n",
              "    <tr>\n",
              "      <th>1</th>\n",
              "      <td>1789-10-03</td>\n",
              "      <td>George Washington</td>\n",
              "      <td>Unaffiliated</td>\n",
              "      <td>Thanksgiving Proclamation</td>\n",
              "      <td>At the request of Congress, Washington establi...</td>\n",
              "      <td>Whereas it is the duty of all Nations to ackno...</td>\n",
              "      <td>https://millercenter.org/the-presidency/presid...</td>\n",
              "    </tr>\n",
              "    <tr>\n",
              "      <th>2</th>\n",
              "      <td>1790-01-08</td>\n",
              "      <td>George Washington</td>\n",
              "      <td>Unaffiliated</td>\n",
              "      <td>First Annual Message to Congress</td>\n",
              "      <td>In a wide ranging speech, President Washington...</td>\n",
              "      <td>Fellow Citizens of the Senate and House of Rep...</td>\n",
              "      <td>https://millercenter.org/the-presidency/presid...</td>\n",
              "    </tr>\n",
              "    <tr>\n",
              "      <th>3</th>\n",
              "      <td>1790-12-08</td>\n",
              "      <td>George Washington</td>\n",
              "      <td>Unaffiliated</td>\n",
              "      <td>Second Annual Message to Congress</td>\n",
              "      <td>Washington focuses on commerce in his second a...</td>\n",
              "      <td>Fellow citizens of the Senate and House of Rep...</td>\n",
              "      <td>https://millercenter.org/the-presidency/presid...</td>\n",
              "    </tr>\n",
              "    <tr>\n",
              "      <th>4</th>\n",
              "      <td>1790-12-29</td>\n",
              "      <td>George Washington</td>\n",
              "      <td>Unaffiliated</td>\n",
              "      <td>Talk to the Chiefs and Counselors of the Senec...</td>\n",
              "      <td>The President reassures the Seneca Nation that...</td>\n",
              "      <td>I the President of the United States, by my ow...</td>\n",
              "      <td>https://millercenter.org/the-presidency/presid...</td>\n",
              "    </tr>\n",
              "  </tbody>\n",
              "</table>\n",
              "</div>\n",
              "      <button class=\"colab-df-convert\" onclick=\"convertToInteractive('df-cc0ba121-6711-4e13-aa7d-cb3cf83ae7bf')\"\n",
              "              title=\"Convert this dataframe to an interactive table.\"\n",
              "              style=\"display:none;\">\n",
              "        \n",
              "  <svg xmlns=\"http://www.w3.org/2000/svg\" height=\"24px\"viewBox=\"0 0 24 24\"\n",
              "       width=\"24px\">\n",
              "    <path d=\"M0 0h24v24H0V0z\" fill=\"none\"/>\n",
              "    <path d=\"M18.56 5.44l.94 2.06.94-2.06 2.06-.94-2.06-.94-.94-2.06-.94 2.06-2.06.94zm-11 1L8.5 8.5l.94-2.06 2.06-.94-2.06-.94L8.5 2.5l-.94 2.06-2.06.94zm10 10l.94 2.06.94-2.06 2.06-.94-2.06-.94-.94-2.06-.94 2.06-2.06.94z\"/><path d=\"M17.41 7.96l-1.37-1.37c-.4-.4-.92-.59-1.43-.59-.52 0-1.04.2-1.43.59L10.3 9.45l-7.72 7.72c-.78.78-.78 2.05 0 2.83L4 21.41c.39.39.9.59 1.41.59.51 0 1.02-.2 1.41-.59l7.78-7.78 2.81-2.81c.8-.78.8-2.07 0-2.86zM5.41 20L4 18.59l7.72-7.72 1.47 1.35L5.41 20z\"/>\n",
              "  </svg>\n",
              "      </button>\n",
              "      \n",
              "  <style>\n",
              "    .colab-df-container {\n",
              "      display:flex;\n",
              "      flex-wrap:wrap;\n",
              "      gap: 12px;\n",
              "    }\n",
              "\n",
              "    .colab-df-convert {\n",
              "      background-color: #E8F0FE;\n",
              "      border: none;\n",
              "      border-radius: 50%;\n",
              "      cursor: pointer;\n",
              "      display: none;\n",
              "      fill: #1967D2;\n",
              "      height: 32px;\n",
              "      padding: 0 0 0 0;\n",
              "      width: 32px;\n",
              "    }\n",
              "\n",
              "    .colab-df-convert:hover {\n",
              "      background-color: #E2EBFA;\n",
              "      box-shadow: 0px 1px 2px rgba(60, 64, 67, 0.3), 0px 1px 3px 1px rgba(60, 64, 67, 0.15);\n",
              "      fill: #174EA6;\n",
              "    }\n",
              "\n",
              "    [theme=dark] .colab-df-convert {\n",
              "      background-color: #3B4455;\n",
              "      fill: #D2E3FC;\n",
              "    }\n",
              "\n",
              "    [theme=dark] .colab-df-convert:hover {\n",
              "      background-color: #434B5C;\n",
              "      box-shadow: 0px 1px 3px 1px rgba(0, 0, 0, 0.15);\n",
              "      filter: drop-shadow(0px 1px 2px rgba(0, 0, 0, 0.3));\n",
              "      fill: #FFFFFF;\n",
              "    }\n",
              "  </style>\n",
              "\n",
              "      <script>\n",
              "        const buttonEl =\n",
              "          document.querySelector('#df-cc0ba121-6711-4e13-aa7d-cb3cf83ae7bf button.colab-df-convert');\n",
              "        buttonEl.style.display =\n",
              "          google.colab.kernel.accessAllowed ? 'block' : 'none';\n",
              "\n",
              "        async function convertToInteractive(key) {\n",
              "          const element = document.querySelector('#df-cc0ba121-6711-4e13-aa7d-cb3cf83ae7bf');\n",
              "          const dataTable =\n",
              "            await google.colab.kernel.invokeFunction('convertToInteractive',\n",
              "                                                     [key], {});\n",
              "          if (!dataTable) return;\n",
              "\n",
              "          const docLinkHtml = 'Like what you see? Visit the ' +\n",
              "            '<a target=\"_blank\" href=https://colab.research.google.com/notebooks/data_table.ipynb>data table notebook</a>'\n",
              "            + ' to learn more about interactive tables.';\n",
              "          element.innerHTML = '';\n",
              "          dataTable['output_type'] = 'display_data';\n",
              "          await google.colab.output.renderOutput(dataTable, element);\n",
              "          const docLink = document.createElement('div');\n",
              "          docLink.innerHTML = docLinkHtml;\n",
              "          element.appendChild(docLink);\n",
              "        }\n",
              "      </script>\n",
              "    </div>\n",
              "  </div>\n",
              "  "
            ]
          },
          "metadata": {},
          "execution_count": 51
        }
      ]
    },
    {
      "cell_type": "code",
      "source": [
        "df1.tail(410)"
      ],
      "metadata": {
        "id": "lKPKat9e_eH6",
        "colab": {
          "base_uri": "https://localhost:8080/",
          "height": 658
        },
        "outputId": "8aedac3d-fff5-4da9-b787-cb79f0cb17dc"
      },
      "execution_count": null,
      "outputs": [
        {
          "output_type": "execute_result",
          "data": {
            "text/plain": [
              "           Date             President       Party  \\\n",
              "582  1953-01-15       Harry S. Truman  Democratic   \n",
              "583  1953-01-20  Dwight D. Eisenhower  Republican   \n",
              "584  1953-04-16  Dwight D. Eisenhower  Republican   \n",
              "585  1953-12-08  Dwight D. Eisenhower  Republican   \n",
              "586  1956-08-23  Dwight D. Eisenhower  Republican   \n",
              "..          ...                   ...         ...   \n",
              "987  2019-01-19          Donald Trump  Republican   \n",
              "988  2019-02-05          Donald Trump  Republican   \n",
              "989  2019-02-15          Donald Trump  Republican   \n",
              "990  2019-09-24          Donald Trump  Republican   \n",
              "991  2019-09-25          Donald Trump  Republican   \n",
              "\n",
              "                                       Speech Title  \\\n",
              "582                                Farewell Address   \n",
              "583                         First Inaugural Address   \n",
              "584                                Chance for Peace   \n",
              "585                                 Atoms for Peace   \n",
              "586                  Republican National Convention   \n",
              "..                                              ...   \n",
              "987            Remarks about the US Southern Border   \n",
              "988                      State of the Union Address   \n",
              "989           Speech Declaring a National Emergency   \n",
              "990  Remarks at the United Nations General Assembly   \n",
              "991                                Press Conference   \n",
              "\n",
              "                                               Summary  \\\n",
              "582  In his farewell address to the American people...   \n",
              "583  Eisenhower challenges citizens to help lead th...   \n",
              "584  Eisenhower gives this speech before the Americ...   \n",
              "585  Before the General Assembly of the United Nati...   \n",
              "586  Eisenhower accepts the Republican nomination f...   \n",
              "..                                                 ...   \n",
              "987  President Donald Trump speaks about what he se...   \n",
              "988  In his second State of the Union Address, Pres...   \n",
              "989  President Donald Trump declares a national eme...   \n",
              "990  President Donald Trump speaks to the 74th sess...   \n",
              "991  President Donald Trump holds a press conferenc...   \n",
              "\n",
              "                                            Transcript  \\\n",
              "582  My fellow Americans: I am happy to have this o...   \n",
              "583  My friends, before I begin the expression of t...   \n",
              "584  In this spring of 1953 the free world weighs o...   \n",
              "585  Madame President, Members of the General Assem...   \n",
              "586  Chairman Martin, Delegates and Alternates to t...   \n",
              "..                                                 ...   \n",
              "987  Just a short time ago, I had the honor of pres...   \n",
              "988  Madam Speaker, Mr. Vice President, Members of ...   \n",
              "989  Thank you very much, everybody. Before we begi...   \n",
              "990  Thank you very much. Mr. President, Mr. Secret...   \n",
              "991  Thank you very much. Thank you. Well, thank yo...   \n",
              "\n",
              "                                                   URL  \n",
              "582  https://millercenter.org/the-presidency/presid...  \n",
              "583  https://millercenter.org/the-presidency/presid...  \n",
              "584  https://millercenter.org/the-presidency/presid...  \n",
              "585  https://millercenter.org/the-presidency/presid...  \n",
              "586  https://millercenter.org/the-presidency/presid...  \n",
              "..                                                 ...  \n",
              "987  https://millercenter.org/the-presidency/presid...  \n",
              "988  https://millercenter.org/the-presidency/presid...  \n",
              "989  https://millercenter.org/the-presidency/presid...  \n",
              "990  https://millercenter.org/the-presidency/presid...  \n",
              "991  https://millercenter.org/the-presidency/presid...  \n",
              "\n",
              "[410 rows x 7 columns]"
            ],
            "text/html": [
              "\n",
              "  <div id=\"df-d38c5530-59b9-4e30-98f6-7a20284a16bc\">\n",
              "    <div class=\"colab-df-container\">\n",
              "      <div>\n",
              "<style scoped>\n",
              "    .dataframe tbody tr th:only-of-type {\n",
              "        vertical-align: middle;\n",
              "    }\n",
              "\n",
              "    .dataframe tbody tr th {\n",
              "        vertical-align: top;\n",
              "    }\n",
              "\n",
              "    .dataframe thead th {\n",
              "        text-align: right;\n",
              "    }\n",
              "</style>\n",
              "<table border=\"1\" class=\"dataframe\">\n",
              "  <thead>\n",
              "    <tr style=\"text-align: right;\">\n",
              "      <th></th>\n",
              "      <th>Date</th>\n",
              "      <th>President</th>\n",
              "      <th>Party</th>\n",
              "      <th>Speech Title</th>\n",
              "      <th>Summary</th>\n",
              "      <th>Transcript</th>\n",
              "      <th>URL</th>\n",
              "    </tr>\n",
              "  </thead>\n",
              "  <tbody>\n",
              "    <tr>\n",
              "      <th>582</th>\n",
              "      <td>1953-01-15</td>\n",
              "      <td>Harry S. Truman</td>\n",
              "      <td>Democratic</td>\n",
              "      <td>Farewell Address</td>\n",
              "      <td>In his farewell address to the American people...</td>\n",
              "      <td>My fellow Americans: I am happy to have this o...</td>\n",
              "      <td>https://millercenter.org/the-presidency/presid...</td>\n",
              "    </tr>\n",
              "    <tr>\n",
              "      <th>583</th>\n",
              "      <td>1953-01-20</td>\n",
              "      <td>Dwight D. Eisenhower</td>\n",
              "      <td>Republican</td>\n",
              "      <td>First Inaugural Address</td>\n",
              "      <td>Eisenhower challenges citizens to help lead th...</td>\n",
              "      <td>My friends, before I begin the expression of t...</td>\n",
              "      <td>https://millercenter.org/the-presidency/presid...</td>\n",
              "    </tr>\n",
              "    <tr>\n",
              "      <th>584</th>\n",
              "      <td>1953-04-16</td>\n",
              "      <td>Dwight D. Eisenhower</td>\n",
              "      <td>Republican</td>\n",
              "      <td>Chance for Peace</td>\n",
              "      <td>Eisenhower gives this speech before the Americ...</td>\n",
              "      <td>In this spring of 1953 the free world weighs o...</td>\n",
              "      <td>https://millercenter.org/the-presidency/presid...</td>\n",
              "    </tr>\n",
              "    <tr>\n",
              "      <th>585</th>\n",
              "      <td>1953-12-08</td>\n",
              "      <td>Dwight D. Eisenhower</td>\n",
              "      <td>Republican</td>\n",
              "      <td>Atoms for Peace</td>\n",
              "      <td>Before the General Assembly of the United Nati...</td>\n",
              "      <td>Madame President, Members of the General Assem...</td>\n",
              "      <td>https://millercenter.org/the-presidency/presid...</td>\n",
              "    </tr>\n",
              "    <tr>\n",
              "      <th>586</th>\n",
              "      <td>1956-08-23</td>\n",
              "      <td>Dwight D. Eisenhower</td>\n",
              "      <td>Republican</td>\n",
              "      <td>Republican National Convention</td>\n",
              "      <td>Eisenhower accepts the Republican nomination f...</td>\n",
              "      <td>Chairman Martin, Delegates and Alternates to t...</td>\n",
              "      <td>https://millercenter.org/the-presidency/presid...</td>\n",
              "    </tr>\n",
              "    <tr>\n",
              "      <th>...</th>\n",
              "      <td>...</td>\n",
              "      <td>...</td>\n",
              "      <td>...</td>\n",
              "      <td>...</td>\n",
              "      <td>...</td>\n",
              "      <td>...</td>\n",
              "      <td>...</td>\n",
              "    </tr>\n",
              "    <tr>\n",
              "      <th>987</th>\n",
              "      <td>2019-01-19</td>\n",
              "      <td>Donald Trump</td>\n",
              "      <td>Republican</td>\n",
              "      <td>Remarks about the US Southern Border</td>\n",
              "      <td>President Donald Trump speaks about what he se...</td>\n",
              "      <td>Just a short time ago, I had the honor of pres...</td>\n",
              "      <td>https://millercenter.org/the-presidency/presid...</td>\n",
              "    </tr>\n",
              "    <tr>\n",
              "      <th>988</th>\n",
              "      <td>2019-02-05</td>\n",
              "      <td>Donald Trump</td>\n",
              "      <td>Republican</td>\n",
              "      <td>State of the Union Address</td>\n",
              "      <td>In his second State of the Union Address, Pres...</td>\n",
              "      <td>Madam Speaker, Mr. Vice President, Members of ...</td>\n",
              "      <td>https://millercenter.org/the-presidency/presid...</td>\n",
              "    </tr>\n",
              "    <tr>\n",
              "      <th>989</th>\n",
              "      <td>2019-02-15</td>\n",
              "      <td>Donald Trump</td>\n",
              "      <td>Republican</td>\n",
              "      <td>Speech Declaring a National Emergency</td>\n",
              "      <td>President Donald Trump declares a national eme...</td>\n",
              "      <td>Thank you very much, everybody. Before we begi...</td>\n",
              "      <td>https://millercenter.org/the-presidency/presid...</td>\n",
              "    </tr>\n",
              "    <tr>\n",
              "      <th>990</th>\n",
              "      <td>2019-09-24</td>\n",
              "      <td>Donald Trump</td>\n",
              "      <td>Republican</td>\n",
              "      <td>Remarks at the United Nations General Assembly</td>\n",
              "      <td>President Donald Trump speaks to the 74th sess...</td>\n",
              "      <td>Thank you very much. Mr. President, Mr. Secret...</td>\n",
              "      <td>https://millercenter.org/the-presidency/presid...</td>\n",
              "    </tr>\n",
              "    <tr>\n",
              "      <th>991</th>\n",
              "      <td>2019-09-25</td>\n",
              "      <td>Donald Trump</td>\n",
              "      <td>Republican</td>\n",
              "      <td>Press Conference</td>\n",
              "      <td>President Donald Trump holds a press conferenc...</td>\n",
              "      <td>Thank you very much. Thank you. Well, thank yo...</td>\n",
              "      <td>https://millercenter.org/the-presidency/presid...</td>\n",
              "    </tr>\n",
              "  </tbody>\n",
              "</table>\n",
              "<p>410 rows × 7 columns</p>\n",
              "</div>\n",
              "      <button class=\"colab-df-convert\" onclick=\"convertToInteractive('df-d38c5530-59b9-4e30-98f6-7a20284a16bc')\"\n",
              "              title=\"Convert this dataframe to an interactive table.\"\n",
              "              style=\"display:none;\">\n",
              "        \n",
              "  <svg xmlns=\"http://www.w3.org/2000/svg\" height=\"24px\"viewBox=\"0 0 24 24\"\n",
              "       width=\"24px\">\n",
              "    <path d=\"M0 0h24v24H0V0z\" fill=\"none\"/>\n",
              "    <path d=\"M18.56 5.44l.94 2.06.94-2.06 2.06-.94-2.06-.94-.94-2.06-.94 2.06-2.06.94zm-11 1L8.5 8.5l.94-2.06 2.06-.94-2.06-.94L8.5 2.5l-.94 2.06-2.06.94zm10 10l.94 2.06.94-2.06 2.06-.94-2.06-.94-.94-2.06-.94 2.06-2.06.94z\"/><path d=\"M17.41 7.96l-1.37-1.37c-.4-.4-.92-.59-1.43-.59-.52 0-1.04.2-1.43.59L10.3 9.45l-7.72 7.72c-.78.78-.78 2.05 0 2.83L4 21.41c.39.39.9.59 1.41.59.51 0 1.02-.2 1.41-.59l7.78-7.78 2.81-2.81c.8-.78.8-2.07 0-2.86zM5.41 20L4 18.59l7.72-7.72 1.47 1.35L5.41 20z\"/>\n",
              "  </svg>\n",
              "      </button>\n",
              "      \n",
              "  <style>\n",
              "    .colab-df-container {\n",
              "      display:flex;\n",
              "      flex-wrap:wrap;\n",
              "      gap: 12px;\n",
              "    }\n",
              "\n",
              "    .colab-df-convert {\n",
              "      background-color: #E8F0FE;\n",
              "      border: none;\n",
              "      border-radius: 50%;\n",
              "      cursor: pointer;\n",
              "      display: none;\n",
              "      fill: #1967D2;\n",
              "      height: 32px;\n",
              "      padding: 0 0 0 0;\n",
              "      width: 32px;\n",
              "    }\n",
              "\n",
              "    .colab-df-convert:hover {\n",
              "      background-color: #E2EBFA;\n",
              "      box-shadow: 0px 1px 2px rgba(60, 64, 67, 0.3), 0px 1px 3px 1px rgba(60, 64, 67, 0.15);\n",
              "      fill: #174EA6;\n",
              "    }\n",
              "\n",
              "    [theme=dark] .colab-df-convert {\n",
              "      background-color: #3B4455;\n",
              "      fill: #D2E3FC;\n",
              "    }\n",
              "\n",
              "    [theme=dark] .colab-df-convert:hover {\n",
              "      background-color: #434B5C;\n",
              "      box-shadow: 0px 1px 3px 1px rgba(0, 0, 0, 0.15);\n",
              "      filter: drop-shadow(0px 1px 2px rgba(0, 0, 0, 0.3));\n",
              "      fill: #FFFFFF;\n",
              "    }\n",
              "  </style>\n",
              "\n",
              "      <script>\n",
              "        const buttonEl =\n",
              "          document.querySelector('#df-d38c5530-59b9-4e30-98f6-7a20284a16bc button.colab-df-convert');\n",
              "        buttonEl.style.display =\n",
              "          google.colab.kernel.accessAllowed ? 'block' : 'none';\n",
              "\n",
              "        async function convertToInteractive(key) {\n",
              "          const element = document.querySelector('#df-d38c5530-59b9-4e30-98f6-7a20284a16bc');\n",
              "          const dataTable =\n",
              "            await google.colab.kernel.invokeFunction('convertToInteractive',\n",
              "                                                     [key], {});\n",
              "          if (!dataTable) return;\n",
              "\n",
              "          const docLinkHtml = 'Like what you see? Visit the ' +\n",
              "            '<a target=\"_blank\" href=https://colab.research.google.com/notebooks/data_table.ipynb>data table notebook</a>'\n",
              "            + ' to learn more about interactive tables.';\n",
              "          element.innerHTML = '';\n",
              "          dataTable['output_type'] = 'display_data';\n",
              "          await google.colab.output.renderOutput(dataTable, element);\n",
              "          const docLink = document.createElement('div');\n",
              "          docLink.innerHTML = docLinkHtml;\n",
              "          element.appendChild(docLink);\n",
              "        }\n",
              "      </script>\n",
              "    </div>\n",
              "  </div>\n",
              "  "
            ]
          },
          "metadata": {},
          "execution_count": 52
        }
      ]
    },
    {
      "cell_type": "code",
      "source": [
        "df1.tail(250)"
      ],
      "metadata": {
        "id": "vIiHQ5cFn8-x",
        "colab": {
          "base_uri": "https://localhost:8080/",
          "height": 641
        },
        "outputId": "5632c24a-dac0-40f8-98d3-4b7313ad8017"
      },
      "execution_count": null,
      "outputs": [
        {
          "output_type": "execute_result",
          "data": {
            "text/plain": [
              "           Date     President       Party  \\\n",
              "742  1976-10-06  Jimmy Carter  Democratic   \n",
              "743  1976-10-22  Jimmy Carter  Democratic   \n",
              "744  1977-01-12   Gerald Ford  Republican   \n",
              "745  1977-01-20  Jimmy Carter  Democratic   \n",
              "746  1977-02-02  Jimmy Carter  Democratic   \n",
              "..          ...           ...         ...   \n",
              "987  2019-01-19  Donald Trump  Republican   \n",
              "988  2019-02-05  Donald Trump  Republican   \n",
              "989  2019-02-15  Donald Trump  Republican   \n",
              "990  2019-09-24  Donald Trump  Republican   \n",
              "991  2019-09-25  Donald Trump  Republican   \n",
              "\n",
              "                                          Speech Title  \\\n",
              "742  Debate with President Gerald Ford (Foreign and...   \n",
              "743                  Debate with President Gerald Ford   \n",
              "744                         State of the Union Address   \n",
              "745                                  Inaugural Address   \n",
              "746            Report to the American People on Energy   \n",
              "..                                                 ...   \n",
              "987               Remarks about the US Southern Border   \n",
              "988                         State of the Union Address   \n",
              "989              Speech Declaring a National Emergency   \n",
              "990     Remarks at the United Nations General Assembly   \n",
              "991                                   Press Conference   \n",
              "\n",
              "                                               Summary  \\\n",
              "742                                                NaN   \n",
              "743                                                NaN   \n",
              "744                                                NaN   \n",
              "745  President Carter notes that the nation must be...   \n",
              "746  President Carter speaks to the American people...   \n",
              "..                                                 ...   \n",
              "987  President Donald Trump speaks about what he se...   \n",
              "988  In his second State of the Union Address, Pres...   \n",
              "989  President Donald Trump declares a national eme...   \n",
              "990  President Donald Trump speaks to the 74th sess...   \n",
              "991  President Donald Trump holds a press conferenc...   \n",
              "\n",
              "                                            Transcript  \\\n",
              "742  Good evening. I am Pauline Frederick of NPR [ ...   \n",
              "743  Good evening, I am Barbara Walters, moderator ...   \n",
              "744  Mr. Speaker, Mr. Vice President, members of th...   \n",
              "745  For myself and for our Nation, I want to thank...   \n",
              "746  Good evening. Tomorrow will be two weeks since...   \n",
              "..                                                 ...   \n",
              "987  Just a short time ago, I had the honor of pres...   \n",
              "988  Madam Speaker, Mr. Vice President, Members of ...   \n",
              "989  Thank you very much, everybody. Before we begi...   \n",
              "990  Thank you very much. Mr. President, Mr. Secret...   \n",
              "991  Thank you very much. Thank you. Well, thank yo...   \n",
              "\n",
              "                                                   URL  \n",
              "742  https://millercenter.org/the-presidency/presid...  \n",
              "743  https://millercenter.org/the-presidency/presid...  \n",
              "744  https://millercenter.org/the-presidency/presid...  \n",
              "745  https://millercenter.org/the-presidency/presid...  \n",
              "746  https://millercenter.org/the-presidency/presid...  \n",
              "..                                                 ...  \n",
              "987  https://millercenter.org/the-presidency/presid...  \n",
              "988  https://millercenter.org/the-presidency/presid...  \n",
              "989  https://millercenter.org/the-presidency/presid...  \n",
              "990  https://millercenter.org/the-presidency/presid...  \n",
              "991  https://millercenter.org/the-presidency/presid...  \n",
              "\n",
              "[250 rows x 7 columns]"
            ],
            "text/html": [
              "\n",
              "  <div id=\"df-4296eda7-9d5a-422c-8ec5-31e106dd507e\">\n",
              "    <div class=\"colab-df-container\">\n",
              "      <div>\n",
              "<style scoped>\n",
              "    .dataframe tbody tr th:only-of-type {\n",
              "        vertical-align: middle;\n",
              "    }\n",
              "\n",
              "    .dataframe tbody tr th {\n",
              "        vertical-align: top;\n",
              "    }\n",
              "\n",
              "    .dataframe thead th {\n",
              "        text-align: right;\n",
              "    }\n",
              "</style>\n",
              "<table border=\"1\" class=\"dataframe\">\n",
              "  <thead>\n",
              "    <tr style=\"text-align: right;\">\n",
              "      <th></th>\n",
              "      <th>Date</th>\n",
              "      <th>President</th>\n",
              "      <th>Party</th>\n",
              "      <th>Speech Title</th>\n",
              "      <th>Summary</th>\n",
              "      <th>Transcript</th>\n",
              "      <th>URL</th>\n",
              "    </tr>\n",
              "  </thead>\n",
              "  <tbody>\n",
              "    <tr>\n",
              "      <th>742</th>\n",
              "      <td>1976-10-06</td>\n",
              "      <td>Jimmy Carter</td>\n",
              "      <td>Democratic</td>\n",
              "      <td>Debate with President Gerald Ford (Foreign and...</td>\n",
              "      <td>NaN</td>\n",
              "      <td>Good evening. I am Pauline Frederick of NPR [ ...</td>\n",
              "      <td>https://millercenter.org/the-presidency/presid...</td>\n",
              "    </tr>\n",
              "    <tr>\n",
              "      <th>743</th>\n",
              "      <td>1976-10-22</td>\n",
              "      <td>Jimmy Carter</td>\n",
              "      <td>Democratic</td>\n",
              "      <td>Debate with President Gerald Ford</td>\n",
              "      <td>NaN</td>\n",
              "      <td>Good evening, I am Barbara Walters, moderator ...</td>\n",
              "      <td>https://millercenter.org/the-presidency/presid...</td>\n",
              "    </tr>\n",
              "    <tr>\n",
              "      <th>744</th>\n",
              "      <td>1977-01-12</td>\n",
              "      <td>Gerald Ford</td>\n",
              "      <td>Republican</td>\n",
              "      <td>State of the Union Address</td>\n",
              "      <td>NaN</td>\n",
              "      <td>Mr. Speaker, Mr. Vice President, members of th...</td>\n",
              "      <td>https://millercenter.org/the-presidency/presid...</td>\n",
              "    </tr>\n",
              "    <tr>\n",
              "      <th>745</th>\n",
              "      <td>1977-01-20</td>\n",
              "      <td>Jimmy Carter</td>\n",
              "      <td>Democratic</td>\n",
              "      <td>Inaugural Address</td>\n",
              "      <td>President Carter notes that the nation must be...</td>\n",
              "      <td>For myself and for our Nation, I want to thank...</td>\n",
              "      <td>https://millercenter.org/the-presidency/presid...</td>\n",
              "    </tr>\n",
              "    <tr>\n",
              "      <th>746</th>\n",
              "      <td>1977-02-02</td>\n",
              "      <td>Jimmy Carter</td>\n",
              "      <td>Democratic</td>\n",
              "      <td>Report to the American People on Energy</td>\n",
              "      <td>President Carter speaks to the American people...</td>\n",
              "      <td>Good evening. Tomorrow will be two weeks since...</td>\n",
              "      <td>https://millercenter.org/the-presidency/presid...</td>\n",
              "    </tr>\n",
              "    <tr>\n",
              "      <th>...</th>\n",
              "      <td>...</td>\n",
              "      <td>...</td>\n",
              "      <td>...</td>\n",
              "      <td>...</td>\n",
              "      <td>...</td>\n",
              "      <td>...</td>\n",
              "      <td>...</td>\n",
              "    </tr>\n",
              "    <tr>\n",
              "      <th>987</th>\n",
              "      <td>2019-01-19</td>\n",
              "      <td>Donald Trump</td>\n",
              "      <td>Republican</td>\n",
              "      <td>Remarks about the US Southern Border</td>\n",
              "      <td>President Donald Trump speaks about what he se...</td>\n",
              "      <td>Just a short time ago, I had the honor of pres...</td>\n",
              "      <td>https://millercenter.org/the-presidency/presid...</td>\n",
              "    </tr>\n",
              "    <tr>\n",
              "      <th>988</th>\n",
              "      <td>2019-02-05</td>\n",
              "      <td>Donald Trump</td>\n",
              "      <td>Republican</td>\n",
              "      <td>State of the Union Address</td>\n",
              "      <td>In his second State of the Union Address, Pres...</td>\n",
              "      <td>Madam Speaker, Mr. Vice President, Members of ...</td>\n",
              "      <td>https://millercenter.org/the-presidency/presid...</td>\n",
              "    </tr>\n",
              "    <tr>\n",
              "      <th>989</th>\n",
              "      <td>2019-02-15</td>\n",
              "      <td>Donald Trump</td>\n",
              "      <td>Republican</td>\n",
              "      <td>Speech Declaring a National Emergency</td>\n",
              "      <td>President Donald Trump declares a national eme...</td>\n",
              "      <td>Thank you very much, everybody. Before we begi...</td>\n",
              "      <td>https://millercenter.org/the-presidency/presid...</td>\n",
              "    </tr>\n",
              "    <tr>\n",
              "      <th>990</th>\n",
              "      <td>2019-09-24</td>\n",
              "      <td>Donald Trump</td>\n",
              "      <td>Republican</td>\n",
              "      <td>Remarks at the United Nations General Assembly</td>\n",
              "      <td>President Donald Trump speaks to the 74th sess...</td>\n",
              "      <td>Thank you very much. Mr. President, Mr. Secret...</td>\n",
              "      <td>https://millercenter.org/the-presidency/presid...</td>\n",
              "    </tr>\n",
              "    <tr>\n",
              "      <th>991</th>\n",
              "      <td>2019-09-25</td>\n",
              "      <td>Donald Trump</td>\n",
              "      <td>Republican</td>\n",
              "      <td>Press Conference</td>\n",
              "      <td>President Donald Trump holds a press conferenc...</td>\n",
              "      <td>Thank you very much. Thank you. Well, thank yo...</td>\n",
              "      <td>https://millercenter.org/the-presidency/presid...</td>\n",
              "    </tr>\n",
              "  </tbody>\n",
              "</table>\n",
              "<p>250 rows × 7 columns</p>\n",
              "</div>\n",
              "      <button class=\"colab-df-convert\" onclick=\"convertToInteractive('df-4296eda7-9d5a-422c-8ec5-31e106dd507e')\"\n",
              "              title=\"Convert this dataframe to an interactive table.\"\n",
              "              style=\"display:none;\">\n",
              "        \n",
              "  <svg xmlns=\"http://www.w3.org/2000/svg\" height=\"24px\"viewBox=\"0 0 24 24\"\n",
              "       width=\"24px\">\n",
              "    <path d=\"M0 0h24v24H0V0z\" fill=\"none\"/>\n",
              "    <path d=\"M18.56 5.44l.94 2.06.94-2.06 2.06-.94-2.06-.94-.94-2.06-.94 2.06-2.06.94zm-11 1L8.5 8.5l.94-2.06 2.06-.94-2.06-.94L8.5 2.5l-.94 2.06-2.06.94zm10 10l.94 2.06.94-2.06 2.06-.94-2.06-.94-.94-2.06-.94 2.06-2.06.94z\"/><path d=\"M17.41 7.96l-1.37-1.37c-.4-.4-.92-.59-1.43-.59-.52 0-1.04.2-1.43.59L10.3 9.45l-7.72 7.72c-.78.78-.78 2.05 0 2.83L4 21.41c.39.39.9.59 1.41.59.51 0 1.02-.2 1.41-.59l7.78-7.78 2.81-2.81c.8-.78.8-2.07 0-2.86zM5.41 20L4 18.59l7.72-7.72 1.47 1.35L5.41 20z\"/>\n",
              "  </svg>\n",
              "      </button>\n",
              "      \n",
              "  <style>\n",
              "    .colab-df-container {\n",
              "      display:flex;\n",
              "      flex-wrap:wrap;\n",
              "      gap: 12px;\n",
              "    }\n",
              "\n",
              "    .colab-df-convert {\n",
              "      background-color: #E8F0FE;\n",
              "      border: none;\n",
              "      border-radius: 50%;\n",
              "      cursor: pointer;\n",
              "      display: none;\n",
              "      fill: #1967D2;\n",
              "      height: 32px;\n",
              "      padding: 0 0 0 0;\n",
              "      width: 32px;\n",
              "    }\n",
              "\n",
              "    .colab-df-convert:hover {\n",
              "      background-color: #E2EBFA;\n",
              "      box-shadow: 0px 1px 2px rgba(60, 64, 67, 0.3), 0px 1px 3px 1px rgba(60, 64, 67, 0.15);\n",
              "      fill: #174EA6;\n",
              "    }\n",
              "\n",
              "    [theme=dark] .colab-df-convert {\n",
              "      background-color: #3B4455;\n",
              "      fill: #D2E3FC;\n",
              "    }\n",
              "\n",
              "    [theme=dark] .colab-df-convert:hover {\n",
              "      background-color: #434B5C;\n",
              "      box-shadow: 0px 1px 3px 1px rgba(0, 0, 0, 0.15);\n",
              "      filter: drop-shadow(0px 1px 2px rgba(0, 0, 0, 0.3));\n",
              "      fill: #FFFFFF;\n",
              "    }\n",
              "  </style>\n",
              "\n",
              "      <script>\n",
              "        const buttonEl =\n",
              "          document.querySelector('#df-4296eda7-9d5a-422c-8ec5-31e106dd507e button.colab-df-convert');\n",
              "        buttonEl.style.display =\n",
              "          google.colab.kernel.accessAllowed ? 'block' : 'none';\n",
              "\n",
              "        async function convertToInteractive(key) {\n",
              "          const element = document.querySelector('#df-4296eda7-9d5a-422c-8ec5-31e106dd507e');\n",
              "          const dataTable =\n",
              "            await google.colab.kernel.invokeFunction('convertToInteractive',\n",
              "                                                     [key], {});\n",
              "          if (!dataTable) return;\n",
              "\n",
              "          const docLinkHtml = 'Like what you see? Visit the ' +\n",
              "            '<a target=\"_blank\" href=https://colab.research.google.com/notebooks/data_table.ipynb>data table notebook</a>'\n",
              "            + ' to learn more about interactive tables.';\n",
              "          element.innerHTML = '';\n",
              "          dataTable['output_type'] = 'display_data';\n",
              "          await google.colab.output.renderOutput(dataTable, element);\n",
              "          const docLink = document.createElement('div');\n",
              "          docLink.innerHTML = docLinkHtml;\n",
              "          element.appendChild(docLink);\n",
              "        }\n",
              "      </script>\n",
              "    </div>\n",
              "  </div>\n",
              "  "
            ]
          },
          "metadata": {},
          "execution_count": 53
        }
      ]
    },
    {
      "cell_type": "code",
      "source": [
        "print(df1['Speech Title'].value_counts())"
      ],
      "metadata": {
        "id": "Ey8pMOI-wUOa",
        "colab": {
          "base_uri": "https://localhost:8080/"
        },
        "outputId": "8072a30d-3f9c-4329-bde9-2ed187a47643"
      },
      "execution_count": null,
      "outputs": [
        {
          "output_type": "stream",
          "name": "stdout",
          "text": [
            "State of the Union Address                          42\n",
            "First Annual Message                                25\n",
            "Inaugural Address                                   23\n",
            "Second Annual Message                               22\n",
            "Third Annual Message                                21\n",
            "                                                    ..\n",
            "Message Regarding US-Cuban Commercial Convention     1\n",
            "Message Regarding the Panamanian Revolution          1\n",
            "Message Regarding Treaty with Panama                 1\n",
            "Proclamation Declaring US Neutrality                 1\n",
            "Remarks at the United Nations General Assembly       1\n",
            "Name: Speech Title, Length: 716, dtype: int64\n"
          ]
        }
      ]
    },
    {
      "cell_type": "code",
      "source": [
        "df1.iloc[988]"
      ],
      "metadata": {
        "id": "htcrl1jBxAsN",
        "colab": {
          "base_uri": "https://localhost:8080/"
        },
        "outputId": "06dfd24f-7ab0-4dab-9721-0ab7187a2cc7"
      },
      "execution_count": null,
      "outputs": [
        {
          "output_type": "execute_result",
          "data": {
            "text/plain": [
              "Date                                                   2019-02-05\n",
              "President                                            Donald Trump\n",
              "Party                                                  Republican\n",
              "Speech Title                           State of the Union Address\n",
              "Summary         In his second State of the Union Address, Pres...\n",
              "Transcript      Madam Speaker, Mr. Vice President, Members of ...\n",
              "URL             https://millercenter.org/the-presidency/presid...\n",
              "Name: 988, dtype: object"
            ]
          },
          "metadata": {},
          "execution_count": 55
        }
      ]
    },
    {
      "cell_type": "code",
      "source": [
        "nRow, nCol = df1.shape"
      ],
      "metadata": {
        "id": "gpq9Tgil4ShK"
      },
      "execution_count": null,
      "outputs": []
    },
    {
      "cell_type": "code",
      "source": [
        "\n",
        "print(nRow)\n",
        "print(nCol)"
      ],
      "metadata": {
        "id": "j8JSV5u54Wwp",
        "colab": {
          "base_uri": "https://localhost:8080/"
        },
        "outputId": "566106ac-e8de-4ea5-bd27-eccf430ec3f8"
      },
      "execution_count": null,
      "outputs": [
        {
          "output_type": "stream",
          "name": "stdout",
          "text": [
            "992\n",
            "7\n"
          ]
        }
      ]
    },
    {
      "cell_type": "code",
      "source": [
        "with open(\"presidential_speeches.csv\", 'r') as csvfile:\n",
        "    print(f\"First line (header) looks like this:\\n\\n{csvfile.readline()}\")\n",
        "    print(f\"Each data point looks like this:\\n\\n{csvfile.readline()}\")\n",
        "    print(f\"Each data point looks like this:\\n\\n{csvfile.readline()}\")"
      ],
      "metadata": {
        "id": "XKfLagMX4taN",
        "colab": {
          "base_uri": "https://localhost:8080/"
        },
        "outputId": "8ab2fdfb-3f3b-413b-d814-265b5e2c277a"
      },
      "execution_count": null,
      "outputs": [
        {
          "output_type": "stream",
          "name": "stdout",
          "text": [
            "First line (header) looks like this:\n",
            "\n",
            "Date,President,Party,Speech Title,Summary,Transcript,URL\n",
            "\n",
            "Each data point looks like this:\n",
            "\n",
            "1789-04-30,George Washington,Unaffiliated,First Inaugural Address,\"Washington calls on Congress to avoid local and party partisanship and encourages the adoption of a Bill of Rights, without specifically calling them by name. The first President demonstrates his reluctance to accept the post, rejects any salary for the execution of his duties, and devotes a considerable part of the speech to his religious beliefs.\",\"Fellow Citizens of the Senate and the House of Representatives: Among the vicissitudes incident to life, no event could have filled me with greater anxieties than that of which the notification was transmitted by your order, and received on the fourteenth day of the present month. On the one hand, I was summoned by my Country, whose voice I can never hear but with veneration and love, from a retreat which I had chosen with the fondest predilection, and, in my flattering hopes, with an immutable decision, as the asylum of my declining years: a retreat which was rendered every day more necessary as well as more dear to me, by the addition of habit to inclination, and of frequent interruptions in my health to the gradual waste committed on it by time. On the other hand, the magnitude and difficulty of the trust to which the voice of my Country called me, being sufficient to awaken in the wisest and most experienced of her citizens, a distrustful scrutiny into his qualification, could not but overwhelm with dispondence, one, who, inheriting inferior endowments from nature and unpractised in the duties of civil administration, ought to be peculiarly conscious of his own deficencies. In this conflict of emotions, all I dare aver, is, that it has been my faithful study to collect my duty from a just appreciation of every circumstance, by which it might be affected. All I dare hope, is, that, if in executing this task I have been too much swayed by a grateful remembrance of former instances, or by an affectionate sensibility to this transcendent proof, of the confidence of my fellow citizens; and have thence too little consulted my incapacity as well as disinclination for the weighty and untried cares before me; my error will be palliated by the motives which misled me, and its consequences be judged by my Country, with some share of the partiality in which they originated. Such being the impressions under which I have, in obedience to the public summons, repaired to the present station; it would be peculiarly improper to omit in this first official Act, my fervent supplications to that Almighty Being who rules over the Universe, who presides in the Councils of Nations, and whose providential aids can supply every human defect, that his benediction may consecrate to the liberties and happiness of the People of the United States, a Government instituted by themselves for these essential purposes: and may enable every instrument employed in its administration to execute with success, the functions allotted to his charge. In tendering this homage to the Great Author of every public and private good, I assure myself that it expresses your sentiments not less than my own; nor those of my fellow citizens at large, less than either. No People can be bound to acknowledge and adore the invisible hand, which conducts the Affairs of men more than the People of the United States. Every step, by which they have advanced to the character of an independent nation, seems to have been distinguished by some token of providential agency. And in the important revolution just accomplished in the system of their United Government, the tranquil deliberations and voluntary consent of so many distinct communities, from which the event has resulted, can not be compared with the means by which most Governments have been established, without some return of pious gratitude along with an humble anticipation of the future blessings which the past seem to presage. These reflections, arising out of the present crisis, have forced themselves too strongly on my mind to be suppressed. You will join with me I trust in thinking, that there are none under the influence of which, the proceedings of a new and free Government can more auspiciously commence. By the article establishing the Executive Department, it is made the duty of the President “to recommend to your consideration, such measures as he shall judge necessary and expedient.” The circumstances under which I now meet you, will acquit me from entering into that subject, farther than to refer to the Great Constitutional Charter under which you are assembled; and which, in defining your powers, designates the objects to which your attention is to be given. It will be more consistent with those circumstances, and far more congenial with the feelings which actuate me, to substitute, in place of a recommendation of particular measures, the tribute that is due to the talents, the rectitude, and the patriotism which adorn the characters selected to devise and adopt them. In these honorable qualifications, I behold the surest pledges, that as on one side, no local prejudices, or attachments; no seperate views, nor party animosities, will misdirect the comprehensive and equal eye which ought to watch over this great assemblage of communities and interests: so, on another, that the foundations of our National policy will be laid in the pure and immutable principles of private morality; and the pre eminence of a free Government, be exemplified by all the attributes which can win the affections of its Citizens, and command the respect of the world. I dwell on this prospect with every satisfaction which an ardent love for my Country can inspire: since there is no truth more thoroughly established, than that there exists in the oeconomy and course of nature, an indissoluble union between virtue and happiness, between duty and advantage, between the genuine maxims of an honest and magnanimous policy, and the solid rewards of public prosperity and felicity: Since we ought to be no less persuaded that the propitious smiles of Heaven, can never be expected on a nation that disregards the eternal rules of order and right, which Heaven itself has ordained: And since the preservation of the sacred fire of liberty, and the destiny of the Republican model of Government, are justly considered as deeply, perhaps as finally staked, on the experiment entrusted to the hands of the American people. Besides the ordinary objects submitted to your care, it will remain with your judgment to decide, how far an exercise of the occasional power delegated by the Fifth article of the Constitution is rendered expedient at the present juncture by the nature of objections which have been urged against the System, or by the degree of inquietude which has given birth to them. Instead of undertaking particular recommendations on this subject, in which I could be guided by no lights derived from official opportunities, I shall again give way to my entire confidence in your discernment and pursuit of the public good: For I assure myself that whilst you carefully avoid every alteration which might endanger the benefits of an United and effective Government, or which ought to await the future lessons of experience; a reverence for the characteristic rights of freemen, and a regard for the public harmony, will sufficiently influence your deliberations on the question how far the former can be more impregnably fortified, or the latter be safely and advantageously promoted. To the preceeding observations I have one to add, which will be most properly addressed to the House of Representatives. It concerns myself, and will therefore be as brief as possible. When I was first honoured with a call into the Service of my Country, then on the eve of an arduous struggle for its liberties, the light in which I contemplated my duty required that I should renounce every pecuniary compensation. From this resolution I have in no instance departed. And being still under the impressions which produced it, I must decline as inapplicable to myself, any share in the personal emoluments, which may be indispensably included in a permanent provision for the Executive Department; and must accordingly pray that the pecuniary estimates for the Station in which I am placed, may, during my continuance in it, be limited to such actual expenditures as the public good may be thought to require. Having thus imparted to you my sentiments, as they have been awakened by the occasion which brings us together, I shall take my present leave; but not without resorting once more to the benign parent of the human race, in humble supplication that since he has been pleased to favour the American people, with opportunities for deliberating in perfect tranquility, and dispositions for deciding with unparellelled unanimity on a form of Government, for the security of their Union, and the advancement of their happiness; so his divine blessing may be equally conspicuous in the enlarged views, the temperate consultations, and the wise measures on which the success of this Government must depend\",https://millercenter.org/the-presidency/presidential-speeches/april-30-1789-first-inaugural-address\n",
            "\n",
            "Each data point looks like this:\n",
            "\n",
            "1789-10-03,George Washington,Unaffiliated,Thanksgiving Proclamation,\"At the request of Congress, Washington establishes November 26th as a national holiday of thanks to God for the successful establishment of the Constitution and government and the liberties the citizens enjoy under the new United States.\",\"Whereas it is the duty of all Nations to acknowledge the providence of Almighty God, to obey his will, to be grateful for his benefits, and humbly to implore his protection and favor, and Whereas both Houses of Congress have by their joint Committee requested me “to recommend to the People of the United States a day of public thanks giving and prayer to be observed by acknowledging with grateful hearts the many signal favors of Almighty God, especially by affording them an opportunity peaceably to establish a form of government for their safety and happiness.” Now therefore I do recommend and assign Thursday the 26th day of November next to be devoted by the People of these States to the service of that great and glorious Being, who is the beneficent Author of all the good that was, that is, or that will be. That we may then all unite in rendering unto him our sincere and humble thanks, for his kind care and protection of the People of this country previous to their becoming a Nation, for the signal and manifold mercies, and the favorable interpositions of his providence, which we experienced in the course and conclusion of the late war, for the great degree of tranquillity, union, and plenty, which we have since enjoyed, for the peaceable and rational manner in which we have been enabled to establish constitutions of government for our safety and happiness, and particularly the national One now lately instituted, for the civil and religious liberty with which we are blessed, and the means we have of acquiring and diffusing useful knowledge and in general for all the great and various favors which he hath been pleased to confer upon us. And also that we may then unite in most humbly offering our prayers and supplications to the great Lord and Ruler of Nations and beseech him to pardon our national and other transgressions, to enable us all, whether in public or private stations, to perform our several and relative duties properly and punctually, to render our national government a blessing to all the People, by constantly being a government of wise, just and constitutional laws, discreetly and faithfully executed and obeyed, to protect and guide all Sovereigns and Nations ( especially such as have shown kindness unto us ) and to bless them with good government, peace, and concord. To promote the knowledge and practice of true religion and virtue, and the encrease of science among them and Us, and generally to grant unto all Mankind such a degree of temporal prosperity as he alone knows to be best\",https://millercenter.org/the-presidency/presidential-speeches/october-3-1789-thanksgiving-proclamation\n",
            "\n"
          ]
        }
      ]
    },
    {
      "cell_type": "code",
      "source": [
        "with open(\"presidential_speeches.csv\", 'r') as csvfile:\n",
        "    reader = csv.reader(csvfile, delimiter=',')"
      ],
      "metadata": {
        "id": "WEEN_JDS09sF"
      },
      "execution_count": null,
      "outputs": []
    },
    {
      "cell_type": "markdown",
      "source": [
        "# Function to extract speeches from csvs"
      ],
      "metadata": {
        "id": "Fkdr9UjUYfG8"
      }
    },
    {
      "cell_type": "code",
      "source": [
        "def parse_data_from_file(filename):\n",
        "    \"\"\"\n",
        "    Extracts sentences and labels from a CSV file, Stores names of presidents, party(dems/republicans), speech(transript)\n",
        "    \n",
        "    Args:\n",
        "        filename (string): path to the CSV file\n",
        "    \n",
        "    Returns:\n",
        "        sentences, labels (list of string, list of string): tuple containing lists of sentences and labels\n",
        "    \"\"\"\n",
        "    speeches = []\n",
        "    names = []\n",
        "    party=[]\n",
        "    with open(filename, 'r') as csvfile:\n",
        "        reader = csv.reader(csvfile, delimiter=',')\n",
        "        next(reader)\n",
        "        for row in reader:\n",
        "            names.append(row[1])\n",
        "            party.append(row[2])\n",
        "            speeches.append(row[5])\n",
        "\n",
        "    return speeches, names, party"
      ],
      "metadata": {
        "id": "kwgkCAU94eDm"
      },
      "execution_count": null,
      "outputs": []
    },
    {
      "cell_type": "code",
      "source": [
        "import sys\n",
        "csv.field_size_limit(sys.maxsize)\n",
        "\n",
        "# Test the functions\n",
        "speeches, names, party  = parse_data_from_file(\"presidential_speeches.csv\")\n",
        "\n",
        "print(f\"There are {len(speeches)} speeches in the dataset.\\n\")\n",
        "\n",
        "\n"
      ],
      "metadata": {
        "id": "z9A3-O3B4eMh",
        "colab": {
          "base_uri": "https://localhost:8080/"
        },
        "outputId": "417c6804-5a80-4c76-e397-f19eb8346d9c"
      },
      "execution_count": null,
      "outputs": [
        {
          "output_type": "stream",
          "name": "stdout",
          "text": [
            "There are 992 speeches in the dataset.\n",
            "\n"
          ]
        }
      ]
    },
    {
      "cell_type": "markdown",
      "source": [],
      "metadata": {
        "id": "q8BazbBOCFSF"
      }
    },
    {
      "cell_type": "code",
      "source": [
        "speeches[900]"
      ],
      "metadata": {
        "id": "OmkJmxQ8CFuu",
        "colab": {
          "base_uri": "https://localhost:8080/",
          "height": 140
        },
        "outputId": "70534318-f2b8-4371-cf15-79bbe3860ac7"
      },
      "execution_count": null,
      "outputs": [
        {
          "output_type": "execute_result",
          "data": {
            "text/plain": [
              "\"Thank you all very much. Please be seated. Thanks for the warm welcome, and thanks for inviting me to join you in this 20th anniversary of the National Endowment for Democracy. The staff and directors of this organization have seen a lot of history over the last two decades, you've been a part of that history. By speaking for and standing for freedom, you've lifted the hopes of people around the world, and you've brought great credit to America. I appreciate Vin for the short introduction. be: ( 1 a man who likes short introductions. And he didn't let me down. But more importantly, I appreciate the invitation. I appreciate the members of Congress who are here, senators from both political parties, members of the House of Representatives from both political parties. I appreciate the ambassadors who are here. I appreciate the guests who have come. I appreciate the bipartisan spirit, the nonpartisan spirit of the National Endowment for Democracy. be: ( 1 glad that Republicans and Democrats and independents are working together to advance human liberty. The roots of our democracy can be traced to England, and to its Parliament and so can the roots of this organization. In June of 1982, President Ronald Reagan spoke at Westminster Palace and declared, the turning point had arrived in history. He argued that Soviet communism had failed, precisely because it did not respect its own people their creativity, their genius and their rights. President Reagan said that the day of Soviet tyranny was passing, that freedom had a momentum which would not be halted. He gave this organization its mandate: to add to the momentum of freedom across the world. Your mandate was important 20 years ago; it is equally important today. A number of critics were dismissive of that speech by the President. According to one editorial of the time, “It seems hard to be a sophisticated European and also an admirer of Ronald Reagan.” ( Laughter. ) Some observers on both sides of the Atlantic pronounced the speech simplistic and naive, and even dangerous. In fact, Ronald Reagan's words were courageous and optimistic and entirely correct. The great democratic movement President Reagan described was already well underway. In the early 19be: ( 1, there were about 40 democracies in the world. By the middle of that decade, Portugal and Spain and Greece held free elections. Soon there were new democracies in Latin America, and free institutions were spreading in Korea, in Taiwan, and in East Asia. This very week in 1989, there were protests in East Berlin and in Leipzig. By the end of that year, every communist dictatorship in Central America * had collapsed. Within another year, the South African government released Nelson Mandela. Four years later, he was elected president of his country ascending, like Walesa and Havel, from prisoner of state to head of state. As the 20th century ended, there were around 120 democracies in the world and I can assure you more are on the way. Ronald Reagan would be pleased, and he would not be surprised. We've witnessed, in little over a generation, the swiftest advance of freedom in the 2,500 year story of democracy. Historians in the future will offer their own explanations for why this happened. Yet we already know some of the reasons they will cite. It is no accident that the rise of so many democracies took place in a time when the world's most influential nation was itself a democracy. The United States made military and moral commitments in Europe and Asia, which protected free nations from aggression, and created the conditions in which new democracies could flourish. As we provided security for whole nations, we also provided inspiration for oppressed peoples. In prison camps, in banned union meetings, in clandestine churches, men and women knew that the whole world was not sharing their own nightmare. They knew of at least one place a bright and hopeful land where freedom was valued and secure. And they prayed that America would not forget them, or forget the mission to promote liberty around the world. Historians will note that in many nations, the advance of markets and free enterprise helped to create a middle class that was confident enough to demand their own rights. They will point to the role of technology in frustrating censorship and central control and marvel at the power of instant communications to spread the truth, the news, and courage across borders. Historians in the future will reflect on an extraordinary, undeniable fact: Over time, free nations grow stronger and dictatorships grow weaker. In the middle of the 20th century, some imagined that the central planning and social regimentation were a shortcut to national strength. In fact, the prosperity, and social vitality and technological progress of a people are directly determined by extent of their liberty. Freedom honors and unleashes human creativity and creativity determines the strength and wealth of nations. Liberty is both the plan of Heaven for humanity, and the best hope for progress here on Earth. The progress of liberty is a powerful trend. Yet, we also know that liberty, if not defended, can be lost. The success of freedom is not determined by some dialectic of history. By definition, the success of freedom rests upon the choices and the courage of free peoples, and upon their willingness to sacrifice. In the trenches of World War I, through a two front war in the 19C3, 100,060,000, the difficult battles of Korea and Vietnam, and in missions of rescue and liberation on nearly every continent, Americans have amply displayed our willingness to sacrifice for liberty. The sacrifices of Americans have not always been recognized or appreciated, yet they have been worthwhile. Because we and our allies were steadfast, Germany and Japan are democratic nations that no longer threaten the world. A global nuclear standoff with the Soviet Union ended peacefully as did the Soviet Union. The nations of Europe are moving towards unity, not dividing into armed camps and descending into genocide. Every nation has learned, or should have learned, an important lesson: Freedom is worth fighting for, dying for, and standing for and the advance of freedom leads to peace. And now we must apply that lesson in our own time. We've reached another great turning point and the resolve we show will shape the next stage of the world democratic movement. Our commitment to democracy is tested in countries like Cuba and Burma and North Korea and Zimbabwe outposts of oppression in our world. The people in these nations live in captivity, and fear and silence. Yet, these regimes can not hold back freedom forever and, one day, from prison camps and prison cells, and from exile, the leaders of new democracies will arrive. Communism, and militarism and rule by the capricious and corrupt are the relics of a passing era. And we will stand with these oppressed peoples until the day of their freedom finally arrives. Our commitment to democracy is tested in China. That nation now has a sliver, a fragment of liberty. Yet, China's people will eventually want their liberty pure and whole. China has discovered that economic freedom leads to national wealth. China's leaders will also discover that freedom is indivisible that social and religious freedom is also essential to national greatness and national dignity. Eventually, men and women who are allowed to control their own wealth will insist on controlling their own lives and their own country. Our commitment to democracy is also tested in the Middle East, which is my focus today, and must be a focus of American policy for decades to come. In many nations of the Middle East countries of great strategic importance democracy has not yet taken root. And the questions arise: Are the peoples of the Middle East somehow beyond the reach of liberty? Are millions of men and women and children condemned by history or culture to live in despotism? Are they alone never to know freedom, and never even to have a choice in the matter? I, for one, do not believe it. I believe every person has the ability and the right to be free. Some skeptics of democracy assert that the traditions of Islam are inhospitable to the representative government. This “cultural condescension,” as Ronald Reagan termed it, has a long history. After the Japanese surrender in 1945, a so-called Japan expert asserted that democracy in that former empire would “never work.” Another observer declared the prospects for democracy in post-Hitler Germany are, and I quote, “most uncertain at best” he made that claim in 1957. Seventy-four years ago, The Sunday London Times declared nine-tenths of the population of India to be “illiterates not caring a fig for politics.” Yet when Indian democracy was imperiled in the 19be: ( 1, the Indian people showed their commitment to liberty in a national referendum that saved their form of government. Time after time, observers have questioned whether this country, or that people, or this group, are “ready” for democracy as if freedom were a prize you win for meeting our own Western standards of progress. In fact, the daily work of democracy itself is the path of progress. It teaches cooperation, the free exchange of ideas, and the peaceful resolution of differences. As men and women are showing, from Bangladesh to Botswana, to Mongolia, it is the practice of democracy that makes a nation ready for democracy, and every nation can start on this path. It should be clear to all that Islam the faith of one-fifth of humanity is consistent with democratic rule. Democratic progress is found in many predominantly Muslim countries in Turkey and Indonesia, and Senegal and Albania, Niger and Sierra Leone. Muslim men and women are good citizens of India and South Africa, of the nations of Western Europe, and of the United States of America. More than half of all the Muslims in the world live in freedom under democratically constituted governments. They succeed in democratic societies, not in spite of their faith, but because of it. A religion that demands individual moral accountability, and encourages the encounter of the individual with God, is fully compatible with the rights and responsibilities of self government. Yet there's a great challenge today in the Middle East. In the words of a recent report by Arab scholars, the global wave of democracy has and I quote “barely reached the Arab states.” They continue: “This freedom deficit undermines human development and is one of the most painful manifestations of lagging political development.” The freedom deficit they describe has terrible consequences, of the people of the Middle East and for the world. In many Middle Eastern countries, poverty is deep and it is spreading, women lack rights and are denied schooling. Whole societies remain stagnant while the world moves ahead. These are not the failures of a culture or a religion. These are the failures of political and economic doctrines. As the colonial era passed away, the Middle East saw the establishment of many military dictatorships. Some rulers adopted the dogmas of socialism, seized total control of political parties and the media and universities. They allied themselves with the Soviet bloc and with international terrorism. Dictators in Iraq and Syria promised the restoration of national honor, a return to ancient glories. They've left instead a legacy of torture, oppression, misery, and ruin. Other men, and groups of men, have gained influence in the Middle East and beyond through an ideology of theocratic terror. Behind their language of religion is the ambition for absolute political power. Ruling cabals like the Taliban show their version of religious piety in public whippings of women, ruthless suppression of any difference or dissent, and support for terrorists who arm and train to murder the innocent. The Taliban promised religious purity and national pride. Instead, by systematically destroying a proud and working society, they left behind suffering and starvation. Many Middle Eastern governments now understand that military dictatorship and theocratic rule are a straight, smooth highway to nowhere. But some governments still cling to the old habits of central control. There are governments that still fear and repress independent thought and creativity, and private enterprise the human qualities that make for a strong and successful societies. Even when these nations have vast natural resources, they do not respect or develop their greatest resources the talent and energy of men and women working and living in freedom. Instead of dwelling on past wrongs and blaming others, governments in the Middle East need to confront real problems, and serve the true interests of their nations. The good and capable people of the Middle East all deserve responsible leadership. For too long, many people in that region have been victims and subjects they deserve to be active citizens. Governments across the Middle East and North Africa are beginning to see the need for change. Morocco has a diverse new parliament; King Mohammed has urged it to extend the rights to women. Here is how His Majesty explained his reforms to parliament: “How can society achieve progress while women, who represent half the nation, see their rights violated and suffer as a result of injustice, violence, and marginalization, notwithstanding the dignity and justice granted to them by our glorious religion?” The King of Morocco is correct: The future of Muslim nations will be better for all with the full participation of women. In Bahrain last year, citizens elected their own parliament for the first time in nearly three decades. Oman has extended the vote to all adult citizens; Qatar has a new constitution; Yemen has a multiparty political system; Kuwait has a directly elected national assembly; and Jordan held historic elections this summer. Recent surveys in Arab nations reveal broad support for political pluralism, the rule of law, and free speech. These are the stirrings of Middle Eastern democracy, and they carry the promise of greater change to come. As changes come to the Middle Eastern region, those with power should ask themselves: Will they be remembered for resisting reform, or for leading it? In Iran, the demand for democracy is strong and broad, as we saw last month when thousands gathered to welcome home Shirin Ebadi, the winner of the Nobel Peace Prize. The regime in Teheran must heed the democratic demands of the Iranian people, or lose its last claim to legitimacy. For the Palestinian people, the only path to independence and dignity and progress is the path of democracy. And the Palestinian leaders who block and undermine democratic reform, and feed hatred and encourage violence are not leaders at all. They're the main obstacles to peace, and to the success of the Palestinian people. The Saudi government is taking first steps toward reform, including a plan for gradual introduction of elections. By giving the Saudi people a greater role in their own society, the Saudi government can demonstrate true leadership in the region. The great and proud nation of Egypt has shown the way toward peace in the Middle East, and now should show the way toward democracy in the Middle East. Champions of democracy in the region understand that democracy is not perfect, it is not the path to utopia, but it's the only path to national success and dignity. As we watch and encourage reforms in the region, we are mindful that modernization is not the same as Westernization. Representative governments in the Middle East will reflect their own cultures. They will not, and should not, look like us. Democratic nations may be constitutional monarchies, federal republics, or parliamentary systems. And working democracies always need time to develop as did our own. We've taken a 200-year journey toward inclusion and justice and this makes us patient and understanding as other nations are at different stages of this journey. There are, however, essential principles common to every successful society, in every culture. Successful societies limit the power of the state and the power of the military so that governments respond to the will of the people, and not the will of an elite. Successful societies protect freedom with the consistent and impartial rule of law, instead of selecting applying selectively applying the law to punish political opponents. Successful societies allow room for healthy civic institutions for political parties and labor unions and independent newspapers and broadcast media. Successful societies guarantee religious liberty the right to serve and honor God without fear of persecution. Successful societies privatize their economies, and secure the rights of property. They prohibit and punish official corruption, and invest in the health and education of their people. They recognize the rights of women. And instead of directing hatred and resentment against others, successful societies appeal to the hopes of their own people. These vital principles are being applies in the nations of Afghanistan and Iraq. With the steady leadership of President Karzai, the people of Afghanistan are building a modern and peaceful government. Next month, 500 delegates will convene a national assembly in Kabul to approve a new Afghan constitution. The proposed draft would establish a bicameral parliament, set national elections next year, and recognize Afghanistan's Muslim identity, while protecting the rights of all citizens. Afghanistan faces continuing economic and security challenges it will face those challenges as a free and stable democracy. In Iraq, the Coalition Provisional Authority and the Iraqi Governing Council are also working together to build a democracy and after three decades of tyranny, this work is not easy. The former dictator ruled by terror and treachery, and left deeply ingrained habits of fear and distrust. Remnants of his regime, joined by foreign terrorists, continue their battle against order and against civilization. Our coalition is responding to recent attacks with precision raids, guided by intelligence provided by the Iraqis, themselves. And we're working closely with Iraqi citizens as they prepare a constitution, as they move toward free elections and take increasing responsibility for their own affairs. As in the defense of Greece in 1947, and later in the Berlin Airlift, the strength and will of free peoples are now being tested before a watching world. And we will meet this test. Securing democracy in Iraq is the work of many hands. American and coalition forces are sacrificing for the peace of Iraq and for the security of free nations. Aid workers from many countries are facing danger to help the Iraqi people. The National Endowment for Democracy is promoting women's rights, and training Iraqi journalists, and teaching the skills of political participation. Iraqis, themselves police and borders guards and local officials are joining in the work and they are sharing in the sacrifice. This is a massive and difficult undertaking it is worth our effort, it is worth our sacrifice, because we know the stakes. The failure of Iraqi democracy would embolden terrorists around the world, increase dangers to the American people, and extinguish the hopes of millions in the region. Iraqi democracy will succeed and that success will send forth the news, from Damascus to Teheran that freedom can be the future of every nation. The establishment of a free Iraq at the heart of the Middle East will be a watershed event in the global democratic revolution. Sixty years of Western nations excusing and accommodating the lack of freedom in the Middle East did nothing to make us safe because in the long run, stability can not be purchased at the expense of liberty. As long as the Middle East remains a place where freedom does not flourish, it will remain a place of stagnation, resentment, and violence ready for export. And with the spread of weapons that can bring catastrophic harm to our country and to our friends, it would be reckless to accept the status quo. Therefore, the United States has adopted a new policy, a forward strategy of freedom in the Middle East. This strategy requires the same persistence and energy and idealism we have shown before. And it will yield the same results. As in Europe, as in Asia, as in every region of the world, the advance of freedom leads to peace. The advance of freedom is the calling of our time; it is the calling of our country. From the Fourteen Points to the Four Freedoms, to the Speech at Westminster, America has put our power at the service of principle. We believe that liberty is the design of nature; we believe that liberty is the direction of history. We believe that human fulfillment and excellence come in the responsible exercise of liberty. And we believe that freedom the freedom we prize is not for us alone, it is the right and the capacity of all mankind. Working for the spread of freedom can be hard. Yet, America has accomplished hard tasks before. Our nation is strong; we're strong of heart. And we're not alone. Freedom is finding allies in every country; freedom finds allies in every culture. And as we meet the terror and violence of the world, we can be certain the author of freedom is not indifferent to the fate of freedom. With all the tests and all the challenges of our age, this is, above all, the age of liberty. Each of you at this Endowment is fully engaged in the great cause of liberty. And I thank you. May God bless your work. And may God continue to bless America\""
            ],
            "application/vnd.google.colaboratory.intrinsic+json": {
              "type": "string"
            }
          },
          "metadata": {},
          "execution_count": 62
        }
      ]
    },
    {
      "cell_type": "code",
      "source": [
        "names[900]"
      ],
      "metadata": {
        "id": "hoX6bwW8qgU6",
        "colab": {
          "base_uri": "https://localhost:8080/",
          "height": 36
        },
        "outputId": "07c180cf-0158-4ddd-9e13-259861afd01f"
      },
      "execution_count": null,
      "outputs": [
        {
          "output_type": "execute_result",
          "data": {
            "text/plain": [
              "'George W. Bush'"
            ],
            "application/vnd.google.colaboratory.intrinsic+json": {
              "type": "string"
            }
          },
          "metadata": {},
          "execution_count": 63
        }
      ]
    },
    {
      "cell_type": "code",
      "source": [
        "speeches[900].split('.')"
      ],
      "metadata": {
        "id": "Xzo9KlIjpjSv",
        "colab": {
          "base_uri": "https://localhost:8080/"
        },
        "outputId": "6b24180e-8e37-4826-ae3f-55f17718a7d0"
      },
      "execution_count": null,
      "outputs": [
        {
          "output_type": "execute_result",
          "data": {
            "text/plain": [
              "['Thank you all very much',\n",
              " ' Please be seated',\n",
              " ' Thanks for the warm welcome, and thanks for inviting me to join you in this 20th anniversary of the National Endowment for Democracy',\n",
              " \" The staff and directors of this organization have seen a lot of history over the last two decades, you've been a part of that history\",\n",
              " \" By speaking for and standing for freedom, you've lifted the hopes of people around the world, and you've brought great credit to America\",\n",
              " ' I appreciate Vin for the short introduction',\n",
              " ' be: ( 1 a man who likes short introductions',\n",
              " \" And he didn't let me down\",\n",
              " ' But more importantly, I appreciate the invitation',\n",
              " ' I appreciate the members of Congress who are here, senators from both political parties, members of the House of Representatives from both political parties',\n",
              " ' I appreciate the ambassadors who are here',\n",
              " ' I appreciate the guests who have come',\n",
              " ' I appreciate the bipartisan spirit, the nonpartisan spirit of the National Endowment for Democracy',\n",
              " ' be: ( 1 glad that Republicans and Democrats and independents are working together to advance human liberty',\n",
              " ' The roots of our democracy can be traced to England, and to its Parliament and so can the roots of this organization',\n",
              " ' In June of 1982, President Ronald Reagan spoke at Westminster Palace and declared, the turning point had arrived in history',\n",
              " ' He argued that Soviet communism had failed, precisely because it did not respect its own people their creativity, their genius and their rights',\n",
              " ' President Reagan said that the day of Soviet tyranny was passing, that freedom had a momentum which would not be halted',\n",
              " ' He gave this organization its mandate: to add to the momentum of freedom across the world',\n",
              " ' Your mandate was important 20 years ago; it is equally important today',\n",
              " ' A number of critics were dismissive of that speech by the President',\n",
              " ' According to one editorial of the time, “It seems hard to be a sophisticated European and also an admirer of Ronald Reagan',\n",
              " '” ( Laughter',\n",
              " ' ) Some observers on both sides of the Atlantic pronounced the speech simplistic and naive, and even dangerous',\n",
              " \" In fact, Ronald Reagan's words were courageous and optimistic and entirely correct\",\n",
              " ' The great democratic movement President Reagan described was already well underway',\n",
              " ' In the early 19be: ( 1, there were about 40 democracies in the world',\n",
              " ' By the middle of that decade, Portugal and Spain and Greece held free elections',\n",
              " ' Soon there were new democracies in Latin America, and free institutions were spreading in Korea, in Taiwan, and in East Asia',\n",
              " ' This very week in 1989, there were protests in East Berlin and in Leipzig',\n",
              " ' By the end of that year, every communist dictatorship in Central America * had collapsed',\n",
              " ' Within another year, the South African government released Nelson Mandela',\n",
              " ' Four years later, he was elected president of his country ascending, like Walesa and Havel, from prisoner of state to head of state',\n",
              " ' As the 20th century ended, there were around 120 democracies in the world and I can assure you more are on the way',\n",
              " ' Ronald Reagan would be pleased, and he would not be surprised',\n",
              " \" We've witnessed, in little over a generation, the swiftest advance of freedom in the 2,500 year story of democracy\",\n",
              " ' Historians in the future will offer their own explanations for why this happened',\n",
              " ' Yet we already know some of the reasons they will cite',\n",
              " \" It is no accident that the rise of so many democracies took place in a time when the world's most influential nation was itself a democracy\",\n",
              " ' The United States made military and moral commitments in Europe and Asia, which protected free nations from aggression, and created the conditions in which new democracies could flourish',\n",
              " ' As we provided security for whole nations, we also provided inspiration for oppressed peoples',\n",
              " ' In prison camps, in banned union meetings, in clandestine churches, men and women knew that the whole world was not sharing their own nightmare',\n",
              " ' They knew of at least one place a bright and hopeful land where freedom was valued and secure',\n",
              " ' And they prayed that America would not forget them, or forget the mission to promote liberty around the world',\n",
              " ' Historians will note that in many nations, the advance of markets and free enterprise helped to create a middle class that was confident enough to demand their own rights',\n",
              " ' They will point to the role of technology in frustrating censorship and central control and marvel at the power of instant communications to spread the truth, the news, and courage across borders',\n",
              " ' Historians in the future will reflect on an extraordinary, undeniable fact: Over time, free nations grow stronger and dictatorships grow weaker',\n",
              " ' In the middle of the 20th century, some imagined that the central planning and social regimentation were a shortcut to national strength',\n",
              " ' In fact, the prosperity, and social vitality and technological progress of a people are directly determined by extent of their liberty',\n",
              " ' Freedom honors and unleashes human creativity and creativity determines the strength and wealth of nations',\n",
              " ' Liberty is both the plan of Heaven for humanity, and the best hope for progress here on Earth',\n",
              " ' The progress of liberty is a powerful trend',\n",
              " ' Yet, we also know that liberty, if not defended, can be lost',\n",
              " ' The success of freedom is not determined by some dialectic of history',\n",
              " ' By definition, the success of freedom rests upon the choices and the courage of free peoples, and upon their willingness to sacrifice',\n",
              " ' In the trenches of World War I, through a two front war in the 19C3, 100,060,000, the difficult battles of Korea and Vietnam, and in missions of rescue and liberation on nearly every continent, Americans have amply displayed our willingness to sacrifice for liberty',\n",
              " ' The sacrifices of Americans have not always been recognized or appreciated, yet they have been worthwhile',\n",
              " ' Because we and our allies were steadfast, Germany and Japan are democratic nations that no longer threaten the world',\n",
              " ' A global nuclear standoff with the Soviet Union ended peacefully as did the Soviet Union',\n",
              " ' The nations of Europe are moving towards unity, not dividing into armed camps and descending into genocide',\n",
              " ' Every nation has learned, or should have learned, an important lesson: Freedom is worth fighting for, dying for, and standing for and the advance of freedom leads to peace',\n",
              " ' And now we must apply that lesson in our own time',\n",
              " \" We've reached another great turning point and the resolve we show will shape the next stage of the world democratic movement\",\n",
              " ' Our commitment to democracy is tested in countries like Cuba and Burma and North Korea and Zimbabwe outposts of oppression in our world',\n",
              " ' The people in these nations live in captivity, and fear and silence',\n",
              " ' Yet, these regimes can not hold back freedom forever and, one day, from prison camps and prison cells, and from exile, the leaders of new democracies will arrive',\n",
              " ' Communism, and militarism and rule by the capricious and corrupt are the relics of a passing era',\n",
              " ' And we will stand with these oppressed peoples until the day of their freedom finally arrives',\n",
              " ' Our commitment to democracy is tested in China',\n",
              " ' That nation now has a sliver, a fragment of liberty',\n",
              " \" Yet, China's people will eventually want their liberty pure and whole\",\n",
              " ' China has discovered that economic freedom leads to national wealth',\n",
              " \" China's leaders will also discover that freedom is indivisible that social and religious freedom is also essential to national greatness and national dignity\",\n",
              " ' Eventually, men and women who are allowed to control their own wealth will insist on controlling their own lives and their own country',\n",
              " ' Our commitment to democracy is also tested in the Middle East, which is my focus today, and must be a focus of American policy for decades to come',\n",
              " ' In many nations of the Middle East countries of great strategic importance democracy has not yet taken root',\n",
              " ' And the questions arise: Are the peoples of the Middle East somehow beyond the reach of liberty? Are millions of men and women and children condemned by history or culture to live in despotism? Are they alone never to know freedom, and never even to have a choice in the matter? I, for one, do not believe it',\n",
              " ' I believe every person has the ability and the right to be free',\n",
              " ' Some skeptics of democracy assert that the traditions of Islam are inhospitable to the representative government',\n",
              " ' This “cultural condescension,” as Ronald Reagan termed it, has a long history',\n",
              " ' After the Japanese surrender in 1945, a so-called Japan expert asserted that democracy in that former empire would “never work',\n",
              " '” Another observer declared the prospects for democracy in post-Hitler Germany are, and I quote, “most uncertain at best” he made that claim in 1957',\n",
              " ' Seventy-four years ago, The Sunday London Times declared nine-tenths of the population of India to be “illiterates not caring a fig for politics',\n",
              " '” Yet when Indian democracy was imperiled in the 19be: ( 1, the Indian people showed their commitment to liberty in a national referendum that saved their form of government',\n",
              " ' Time after time, observers have questioned whether this country, or that people, or this group, are “ready” for democracy as if freedom were a prize you win for meeting our own Western standards of progress',\n",
              " ' In fact, the daily work of democracy itself is the path of progress',\n",
              " ' It teaches cooperation, the free exchange of ideas, and the peaceful resolution of differences',\n",
              " ' As men and women are showing, from Bangladesh to Botswana, to Mongolia, it is the practice of democracy that makes a nation ready for democracy, and every nation can start on this path',\n",
              " ' It should be clear to all that Islam the faith of one-fifth of humanity is consistent with democratic rule',\n",
              " ' Democratic progress is found in many predominantly Muslim countries in Turkey and Indonesia, and Senegal and Albania, Niger and Sierra Leone',\n",
              " ' Muslim men and women are good citizens of India and South Africa, of the nations of Western Europe, and of the United States of America',\n",
              " ' More than half of all the Muslims in the world live in freedom under democratically constituted governments',\n",
              " ' They succeed in democratic societies, not in spite of their faith, but because of it',\n",
              " ' A religion that demands individual moral accountability, and encourages the encounter of the individual with God, is fully compatible with the rights and responsibilities of self government',\n",
              " \" Yet there's a great challenge today in the Middle East\",\n",
              " ' In the words of a recent report by Arab scholars, the global wave of democracy has and I quote “barely reached the Arab states',\n",
              " '” They continue: “This freedom deficit undermines human development and is one of the most painful manifestations of lagging political development',\n",
              " '” The freedom deficit they describe has terrible consequences, of the people of the Middle East and for the world',\n",
              " ' In many Middle Eastern countries, poverty is deep and it is spreading, women lack rights and are denied schooling',\n",
              " ' Whole societies remain stagnant while the world moves ahead',\n",
              " ' These are not the failures of a culture or a religion',\n",
              " ' These are the failures of political and economic doctrines',\n",
              " ' As the colonial era passed away, the Middle East saw the establishment of many military dictatorships',\n",
              " ' Some rulers adopted the dogmas of socialism, seized total control of political parties and the media and universities',\n",
              " ' They allied themselves with the Soviet bloc and with international terrorism',\n",
              " ' Dictators in Iraq and Syria promised the restoration of national honor, a return to ancient glories',\n",
              " \" They've left instead a legacy of torture, oppression, misery, and ruin\",\n",
              " ' Other men, and groups of men, have gained influence in the Middle East and beyond through an ideology of theocratic terror',\n",
              " ' Behind their language of religion is the ambition for absolute political power',\n",
              " ' Ruling cabals like the Taliban show their version of religious piety in public whippings of women, ruthless suppression of any difference or dissent, and support for terrorists who arm and train to murder the innocent',\n",
              " ' The Taliban promised religious purity and national pride',\n",
              " ' Instead, by systematically destroying a proud and working society, they left behind suffering and starvation',\n",
              " ' Many Middle Eastern governments now understand that military dictatorship and theocratic rule are a straight, smooth highway to nowhere',\n",
              " ' But some governments still cling to the old habits of central control',\n",
              " ' There are governments that still fear and repress independent thought and creativity, and private enterprise the human qualities that make for a strong and successful societies',\n",
              " ' Even when these nations have vast natural resources, they do not respect or develop their greatest resources the talent and energy of men and women working and living in freedom',\n",
              " ' Instead of dwelling on past wrongs and blaming others, governments in the Middle East need to confront real problems, and serve the true interests of their nations',\n",
              " ' The good and capable people of the Middle East all deserve responsible leadership',\n",
              " ' For too long, many people in that region have been victims and subjects they deserve to be active citizens',\n",
              " ' Governments across the Middle East and North Africa are beginning to see the need for change',\n",
              " ' Morocco has a diverse new parliament; King Mohammed has urged it to extend the rights to women',\n",
              " ' Here is how His Majesty explained his reforms to parliament: “How can society achieve progress while women, who represent half the nation, see their rights violated and suffer as a result of injustice, violence, and marginalization, notwithstanding the dignity and justice granted to them by our glorious religion?” The King of Morocco is correct: The future of Muslim nations will be better for all with the full participation of women',\n",
              " ' In Bahrain last year, citizens elected their own parliament for the first time in nearly three decades',\n",
              " ' Oman has extended the vote to all adult citizens; Qatar has a new constitution; Yemen has a multiparty political system; Kuwait has a directly elected national assembly; and Jordan held historic elections this summer',\n",
              " ' Recent surveys in Arab nations reveal broad support for political pluralism, the rule of law, and free speech',\n",
              " ' These are the stirrings of Middle Eastern democracy, and they carry the promise of greater change to come',\n",
              " ' As changes come to the Middle Eastern region, those with power should ask themselves: Will they be remembered for resisting reform, or for leading it? In Iran, the demand for democracy is strong and broad, as we saw last month when thousands gathered to welcome home Shirin Ebadi, the winner of the Nobel Peace Prize',\n",
              " ' The regime in Teheran must heed the democratic demands of the Iranian people, or lose its last claim to legitimacy',\n",
              " ' For the Palestinian people, the only path to independence and dignity and progress is the path of democracy',\n",
              " ' And the Palestinian leaders who block and undermine democratic reform, and feed hatred and encourage violence are not leaders at all',\n",
              " \" They're the main obstacles to peace, and to the success of the Palestinian people\",\n",
              " ' The Saudi government is taking first steps toward reform, including a plan for gradual introduction of elections',\n",
              " ' By giving the Saudi people a greater role in their own society, the Saudi government can demonstrate true leadership in the region',\n",
              " ' The great and proud nation of Egypt has shown the way toward peace in the Middle East, and now should show the way toward democracy in the Middle East',\n",
              " \" Champions of democracy in the region understand that democracy is not perfect, it is not the path to utopia, but it's the only path to national success and dignity\",\n",
              " ' As we watch and encourage reforms in the region, we are mindful that modernization is not the same as Westernization',\n",
              " ' Representative governments in the Middle East will reflect their own cultures',\n",
              " ' They will not, and should not, look like us',\n",
              " ' Democratic nations may be constitutional monarchies, federal republics, or parliamentary systems',\n",
              " ' And working democracies always need time to develop as did our own',\n",
              " \" We've taken a 200-year journey toward inclusion and justice and this makes us patient and understanding as other nations are at different stages of this journey\",\n",
              " ' There are, however, essential principles common to every successful society, in every culture',\n",
              " ' Successful societies limit the power of the state and the power of the military so that governments respond to the will of the people, and not the will of an elite',\n",
              " ' Successful societies protect freedom with the consistent and impartial rule of law, instead of selecting applying selectively applying the law to punish political opponents',\n",
              " ' Successful societies allow room for healthy civic institutions for political parties and labor unions and independent newspapers and broadcast media',\n",
              " ' Successful societies guarantee religious liberty the right to serve and honor God without fear of persecution',\n",
              " ' Successful societies privatize their economies, and secure the rights of property',\n",
              " ' They prohibit and punish official corruption, and invest in the health and education of their people',\n",
              " ' They recognize the rights of women',\n",
              " ' And instead of directing hatred and resentment against others, successful societies appeal to the hopes of their own people',\n",
              " ' These vital principles are being applies in the nations of Afghanistan and Iraq',\n",
              " ' With the steady leadership of President Karzai, the people of Afghanistan are building a modern and peaceful government',\n",
              " ' Next month, 500 delegates will convene a national assembly in Kabul to approve a new Afghan constitution',\n",
              " \" The proposed draft would establish a bicameral parliament, set national elections next year, and recognize Afghanistan's Muslim identity, while protecting the rights of all citizens\",\n",
              " ' Afghanistan faces continuing economic and security challenges it will face those challenges as a free and stable democracy',\n",
              " ' In Iraq, the Coalition Provisional Authority and the Iraqi Governing Council are also working together to build a democracy and after three decades of tyranny, this work is not easy',\n",
              " ' The former dictator ruled by terror and treachery, and left deeply ingrained habits of fear and distrust',\n",
              " ' Remnants of his regime, joined by foreign terrorists, continue their battle against order and against civilization',\n",
              " ' Our coalition is responding to recent attacks with precision raids, guided by intelligence provided by the Iraqis, themselves',\n",
              " \" And we're working closely with Iraqi citizens as they prepare a constitution, as they move toward free elections and take increasing responsibility for their own affairs\",\n",
              " ' As in the defense of Greece in 1947, and later in the Berlin Airlift, the strength and will of free peoples are now being tested before a watching world',\n",
              " ' And we will meet this test',\n",
              " ' Securing democracy in Iraq is the work of many hands',\n",
              " ' American and coalition forces are sacrificing for the peace of Iraq and for the security of free nations',\n",
              " ' Aid workers from many countries are facing danger to help the Iraqi people',\n",
              " \" The National Endowment for Democracy is promoting women's rights, and training Iraqi journalists, and teaching the skills of political participation\",\n",
              " ' Iraqis, themselves police and borders guards and local officials are joining in the work and they are sharing in the sacrifice',\n",
              " ' This is a massive and difficult undertaking it is worth our effort, it is worth our sacrifice, because we know the stakes',\n",
              " ' The failure of Iraqi democracy would embolden terrorists around the world, increase dangers to the American people, and extinguish the hopes of millions in the region',\n",
              " ' Iraqi democracy will succeed and that success will send forth the news, from Damascus to Teheran that freedom can be the future of every nation',\n",
              " ' The establishment of a free Iraq at the heart of the Middle East will be a watershed event in the global democratic revolution',\n",
              " ' Sixty years of Western nations excusing and accommodating the lack of freedom in the Middle East did nothing to make us safe because in the long run, stability can not be purchased at the expense of liberty',\n",
              " ' As long as the Middle East remains a place where freedom does not flourish, it will remain a place of stagnation, resentment, and violence ready for export',\n",
              " ' And with the spread of weapons that can bring catastrophic harm to our country and to our friends, it would be reckless to accept the status quo',\n",
              " ' Therefore, the United States has adopted a new policy, a forward strategy of freedom in the Middle East',\n",
              " ' This strategy requires the same persistence and energy and idealism we have shown before',\n",
              " ' And it will yield the same results',\n",
              " ' As in Europe, as in Asia, as in every region of the world, the advance of freedom leads to peace',\n",
              " ' The advance of freedom is the calling of our time; it is the calling of our country',\n",
              " ' From the Fourteen Points to the Four Freedoms, to the Speech at Westminster, America has put our power at the service of principle',\n",
              " ' We believe that liberty is the design of nature; we believe that liberty is the direction of history',\n",
              " ' We believe that human fulfillment and excellence come in the responsible exercise of liberty',\n",
              " ' And we believe that freedom the freedom we prize is not for us alone, it is the right and the capacity of all mankind',\n",
              " ' Working for the spread of freedom can be hard',\n",
              " ' Yet, America has accomplished hard tasks before',\n",
              " \" Our nation is strong; we're strong of heart\",\n",
              " \" And we're not alone\",\n",
              " ' Freedom is finding allies in every country; freedom finds allies in every culture',\n",
              " ' And as we meet the terror and violence of the world, we can be certain the author of freedom is not indifferent to the fate of freedom',\n",
              " ' With all the tests and all the challenges of our age, this is, above all, the age of liberty',\n",
              " ' Each of you at this Endowment is fully engaged in the great cause of liberty',\n",
              " ' And I thank you',\n",
              " ' May God bless your work',\n",
              " ' And may God continue to bless America']"
            ]
          },
          "metadata": {},
          "execution_count": 64
        }
      ]
    },
    {
      "cell_type": "code",
      "source": [
        "def paragraphs_to_sentences(paragraphs):\n",
        "\n",
        "  sentenceList=[]\n",
        "\n",
        "  for paragraph in paragraphs:\n",
        "      sentences = paragraph.lower().split('.')\n",
        "      print(len(sentences))\n",
        "      for sentence in sentences:\n",
        "        sentenceList.append(sentence)\n",
        "\n",
        "      \n",
        "     \n",
        "\n",
        "  return sentenceList"
      ],
      "metadata": {
        "id": "gvmKKVPuDkfH"
      },
      "execution_count": null,
      "outputs": []
    },
    {
      "cell_type": "code",
      "source": [
        "sentenceList=paragraphs_to_sentences(speeches[-250:])"
      ],
      "metadata": {
        "id": "sFAk7_SWFfwk",
        "colab": {
          "base_uri": "https://localhost:8080/"
        },
        "outputId": "257e6a1e-6282-4073-b27a-872c58b18dfb"
      },
      "execution_count": null,
      "outputs": [
        {
          "output_type": "stream",
          "name": "stdout",
          "text": [
            "783\n",
            "776\n",
            "217\n",
            "53\n",
            "176\n",
            "305\n",
            "163\n",
            "163\n",
            "35\n",
            "124\n",
            "254\n",
            "35\n",
            "189\n",
            "37\n",
            "161\n",
            "210\n",
            "167\n",
            "59\n",
            "167\n",
            "42\n",
            "202\n",
            "243\n",
            "880\n",
            "100\n",
            "130\n",
            "221\n",
            "127\n",
            "152\n",
            "183\n",
            "174\n",
            "196\n",
            "158\n",
            "494\n",
            "106\n",
            "260\n",
            "198\n",
            "192\n",
            "189\n",
            "169\n",
            "133\n",
            "65\n",
            "266\n",
            "238\n",
            "189\n",
            "236\n",
            "214\n",
            "131\n",
            "418\n",
            "56\n",
            "54\n",
            "294\n",
            "47\n",
            "118\n",
            "125\n",
            "100\n",
            "273\n",
            "1101\n",
            "272\n",
            "124\n",
            "229\n",
            "53\n",
            "150\n",
            "47\n",
            "175\n",
            "59\n",
            "181\n",
            "151\n",
            "53\n",
            "203\n",
            "113\n",
            "136\n",
            "52\n",
            "118\n",
            "231\n",
            "308\n",
            "261\n",
            "285\n",
            "409\n",
            "231\n",
            "19\n",
            "350\n",
            "200\n",
            "148\n",
            "294\n",
            "146\n",
            "43\n",
            "204\n",
            "82\n",
            "84\n",
            "204\n",
            "147\n",
            "77\n",
            "89\n",
            "231\n",
            "47\n",
            "182\n",
            "638\n",
            "325\n",
            "346\n",
            "1360\n",
            "76\n",
            "193\n",
            "201\n",
            "92\n",
            "106\n",
            "38\n",
            "296\n",
            "198\n",
            "54\n",
            "46\n",
            "59\n",
            "352\n",
            "109\n",
            "204\n",
            "121\n",
            "399\n",
            "70\n",
            "38\n",
            "461\n",
            "56\n",
            "280\n",
            "216\n",
            "155\n",
            "153\n",
            "356\n",
            "99\n",
            "341\n",
            "139\n",
            "160\n",
            "106\n",
            "352\n",
            "61\n",
            "53\n",
            "369\n",
            "113\n",
            "97\n",
            "36\n",
            "399\n",
            "97\n",
            "80\n",
            "405\n",
            "55\n",
            "96\n",
            "63\n",
            "61\n",
            "59\n",
            "83\n",
            "37\n",
            "183\n",
            "162\n",
            "216\n",
            "172\n",
            "73\n",
            "60\n",
            "179\n",
            "309\n",
            "110\n",
            "30\n",
            "194\n",
            "160\n",
            "121\n",
            "280\n",
            "170\n",
            "270\n",
            "101\n",
            "243\n",
            "73\n",
            "149\n",
            "116\n",
            "278\n",
            "86\n",
            "159\n",
            "292\n",
            "227\n",
            "313\n",
            "176\n",
            "218\n",
            "36\n",
            "80\n",
            "165\n",
            "48\n",
            "438\n",
            "121\n",
            "112\n",
            "32\n",
            "114\n",
            "291\n",
            "68\n",
            "311\n",
            "277\n",
            "231\n",
            "211\n",
            "427\n",
            "230\n",
            "272\n",
            "174\n",
            "193\n",
            "136\n",
            "144\n",
            "203\n",
            "343\n",
            "142\n",
            "421\n",
            "74\n",
            "275\n",
            "189\n",
            "98\n",
            "236\n",
            "50\n",
            "423\n",
            "241\n",
            "107\n",
            "105\n",
            "89\n",
            "202\n",
            "357\n",
            "276\n",
            "303\n",
            "195\n",
            "79\n",
            "226\n",
            "113\n",
            "303\n",
            "363\n",
            "121\n",
            "379\n",
            "213\n",
            "189\n",
            "353\n",
            "241\n",
            "369\n",
            "89\n",
            "257\n",
            "195\n",
            "349\n",
            "213\n",
            "202\n",
            "234\n",
            "323\n",
            "431\n",
            "39\n",
            "873\n",
            "375\n",
            "544\n",
            "221\n",
            "88\n",
            "290\n",
            "805\n",
            "230\n",
            "555\n"
          ]
        }
      ]
    },
    {
      "cell_type": "code",
      "source": [
        "numbers=[1,2,3,4,5]"
      ],
      "metadata": {
        "id": "Cv1qxG5ar3xZ"
      },
      "execution_count": null,
      "outputs": []
    },
    {
      "cell_type": "code",
      "source": [
        "print(numbers)"
      ],
      "metadata": {
        "id": "tu_z7JUwsFbu",
        "colab": {
          "base_uri": "https://localhost:8080/"
        },
        "outputId": "d9074a8a-d8e1-468a-e36d-4f14b8853bb0"
      },
      "execution_count": null,
      "outputs": [
        {
          "output_type": "stream",
          "name": "stdout",
          "text": [
            "[1, 2, 3, 4, 5]\n"
          ]
        }
      ]
    },
    {
      "cell_type": "code",
      "source": [
        "sentenceList[10000]"
      ],
      "metadata": {
        "id": "h45TAmRMFnI3",
        "colab": {
          "base_uri": "https://localhost:8080/",
          "height": 53
        },
        "outputId": "648e9658-a769-4cac-ac9b-ba1ab037e5aa"
      },
      "execution_count": null,
      "outputs": [
        {
          "output_type": "execute_result",
          "data": {
            "text/plain": [
              "' a little over a year ago, hoping to build on the camp david accords, which had led to peace between israel and egypt, i proposed a peace plan for the middle east to end the wars between the arab states and israel'"
            ],
            "application/vnd.google.colaboratory.intrinsic+json": {
              "type": "string"
            }
          },
          "metadata": {},
          "execution_count": 69
        }
      ]
    },
    {
      "cell_type": "markdown",
      "source": [
        "Shortening the setence list so sentences max have 25 words.\n"
      ],
      "metadata": {
        "id": "jp4CvjjfUAmH"
      }
    },
    {
      "cell_type": "code",
      "source": [
        "short_sentenceList=[x for x in sentenceList if (len(x)<=50 and len(x)>=25)]"
      ],
      "metadata": {
        "id": "wXT0p_cdULJP"
      },
      "execution_count": null,
      "outputs": []
    },
    {
      "cell_type": "code",
      "source": [
        "len(short_sentenceList)"
      ],
      "metadata": {
        "id": "o_lchn0WUSfD",
        "colab": {
          "base_uri": "https://localhost:8080/"
        },
        "outputId": "ae060a26-03d5-4cf1-e52b-cc391ca4fe06"
      },
      "execution_count": null,
      "outputs": [
        {
          "output_type": "execute_result",
          "data": {
            "text/plain": [
              "8348"
            ]
          },
          "metadata": {},
          "execution_count": 71
        }
      ]
    },
    {
      "cell_type": "code",
      "source": [
        "for sentence in short_sentenceList[0:50]:\n",
        "  print(sentence)\n",
        "  print(len(sentence))\n",
        "  #print(\"\\n\")\n"
      ],
      "metadata": {
        "id": "lzvSTtI_VVPn",
        "colab": {
          "base_uri": "https://localhost:8080/"
        },
        "outputId": "85bd40e6-0457-4099-a930-52e8501c6f0c"
      },
      "execution_count": null,
      "outputs": [
        {
          "output_type": "stream",
          "name": "stdout",
          "text": [
            " his opponent will have up to 2 minutes to respond\n",
            "50\n",
            " and i hope tonight that i and mr\n",
            "33\n",
            " it's been one of secrecy and exclusion\n",
            "39\n",
            " and the last point i want to make is this: mr\n",
            "46\n",
            " kissinger has been the president of this country\n",
            "49\n",
            " now let me just tell you a little story\n",
            "40\n",
            " that's the kind of a defense program that mr\n",
            "45\n",
            " and the kind of a defense program that mr\n",
            "42\n",
            " trewhitt, a question for president ford\n",
            "40\n",
            " we have a democracy in portugal today\n",
            "38\n",
            " we wanted to end the bloodshed in southern africa\n",
            "50\n",
            " serve human dignity in southern africa\n",
            "39\n",
            " about a year ago, he cut the pentagon budget $ 6\n",
            "49\n",
            " ford added back another $ 1 1/2 billion\n",
            "40\n",
            "8 billion in the defense budget\n",
            "31\n",
            " valeriani, a question for governor carter\n",
            "42\n",
            " but i have an adequate background, i believe\n",
            "45\n",
            " i am a graduate of the in 1881\n",
            "31\n",
            " i've talked to them, and i've listened\n",
            "39\n",
            " i believe i know what this country ought to be\n",
            "47\n",
            " ford and kissinger have done\n",
            "29\n",
            " kissinger that he could not reveal\n",
            "35\n",
            " these kinds of things have hurt us very much\n",
            "45\n",
            " governor carter again contradicts himself\n",
            "42\n",
            " frankel, a question for president ford\n",
            "39\n",
            " and let me cite several examples\n",
            "33\n",
            " i negotiated at vladivostok with mr\n",
            "36\n",
            " governor carter, have you a response? mr\n",
            "41\n",
            " radio free europe is being jammed\n",
            "34\n",
            " and i would like to see mr\n",
            "27\n",
            " ford exclude himself from access to the public\n",
            "47\n",
            " one press conference he had without sound\n",
            "42\n",
            " the arabs have put pressure on mr\n",
            "34\n",
            " trewhitt, a question for governor carter\n",
            "41\n",
            " and i would respond instantly and in kind\n",
            "42\n",
            " i wouldn't single out just food\n",
            "32\n",
            " it's a matter of being tough\n",
            "29\n",
            " it's a matter of being strong\n",
            "30\n",
            " it's a matter of being consistent\n",
            "34\n",
            " this is ridiculous, and it ought to be changed\n",
            "47\n",
            " governor, let me pursue that, if i may\n",
            "39\n",
            " do i have it correctly? mr\n",
            "27\n",
            " he indicates he would not make those\n",
            "37\n",
            " iran has iraq as one of its neighbors\n",
            "38\n",
            " and iran has been a good ally\n",
            "30\n",
            " it's for their security as well as ours\n",
            "40\n",
            " valeriani, a question for president ford\n",
            "41\n",
            " frankel, a question for governor carter\n",
            "40\n",
            " we are no longer respected\n",
            "27\n",
            " our allies feel that we've neglected them\n",
            "42\n"
          ]
        }
      ]
    },
    {
      "cell_type": "code",
      "source": [
        "short_sentenceList[5]"
      ],
      "metadata": {
        "id": "P0IbsE3ZWdnZ",
        "colab": {
          "base_uri": "https://localhost:8080/",
          "height": 36
        },
        "outputId": "f34b2d44-0836-450e-bcd9-c111473d7152"
      },
      "execution_count": null,
      "outputs": [
        {
          "output_type": "execute_result",
          "data": {
            "text/plain": [
              "' now let me just tell you a little story'"
            ],
            "application/vnd.google.colaboratory.intrinsic+json": {
              "type": "string"
            }
          },
          "metadata": {},
          "execution_count": 73
        }
      ]
    },
    {
      "cell_type": "code",
      "source": [
        "len(short_sentenceList[5])"
      ],
      "metadata": {
        "id": "qHtHMuaXWn5X",
        "colab": {
          "base_uri": "https://localhost:8080/"
        },
        "outputId": "7ac511a3-89a8-4bb8-f3db-862821ab9d06"
      },
      "execution_count": null,
      "outputs": [
        {
          "output_type": "execute_result",
          "data": {
            "text/plain": [
              "40"
            ]
          },
          "metadata": {},
          "execution_count": 74
        }
      ]
    },
    {
      "cell_type": "code",
      "source": [
        "tokenizer1 = Tokenizer(num_words=3000)\n",
        "tokenizer1.fit_on_texts(sentenceList)\n",
        "total_words = len(tokenizer1.word_index) + 1"
      ],
      "metadata": {
        "id": "3iBQsPicEyfX"
      },
      "execution_count": null,
      "outputs": []
    },
    {
      "cell_type": "code",
      "source": [
        "total_words"
      ],
      "metadata": {
        "id": "E9lsjsWaCdLR",
        "colab": {
          "base_uri": "https://localhost:8080/"
        },
        "outputId": "42dc3feb-772b-43b3-e879-32fcbb9b4f8e"
      },
      "execution_count": null,
      "outputs": [
        {
          "output_type": "execute_result",
          "data": {
            "text/plain": [
              "21977"
            ]
          },
          "metadata": {},
          "execution_count": 89
        }
      ]
    },
    {
      "cell_type": "markdown",
      "source": [
        "**Testing sequence outputs**"
      ],
      "metadata": {
        "id": "Zb297bvPsbo4"
      }
    },
    {
      "cell_type": "code",
      "source": [
        "short_sentenceList[0:3]"
      ],
      "metadata": {
        "id": "X8NvGSpIsTiN",
        "colab": {
          "base_uri": "https://localhost:8080/"
        },
        "outputId": "f7b01888-3f66-4de8-e952-f82fe1beedee"
      },
      "execution_count": null,
      "outputs": [
        {
          "output_type": "execute_result",
          "data": {
            "text/plain": [
              "[' his opponent will have up to 2 minutes to respond',\n",
              " ' and i hope tonight that i and mr',\n",
              " \" it's been one of secrecy and exclusion\"]"
            ]
          },
          "metadata": {},
          "execution_count": 77
        }
      ]
    },
    {
      "cell_type": "code",
      "source": [
        "\n",
        "def n_gram_seqs(corpus, tokenizer):\n",
        "    \"\"\"\n",
        "    Generates a list of n-gram sequences\n",
        "    \n",
        "    Args:\n",
        "        corpus (list of string): lines of texts to generate n-grams for\n",
        "        tokenizer (object): an instance of the Tokenizer class containing the word-index dictionary\n",
        "    \n",
        "    Returns:\n",
        "        input_sequences (list of int): the n-gram sequences for each line in the corpus\n",
        "    \"\"\"\n",
        "    input_sequences = []\n",
        "    \n",
        "    ### START CODE HERE\n",
        "    for sentence in corpus:\n",
        "       items= tokenizer.texts_to_sequences([sentence])[0]\n",
        "\t    \n",
        "       for i in range(0, len(items)):\n",
        "       \n",
        "          if i<=13:\n",
        "            n_gram_sequence = items[:i+1]\n",
        "            input_sequences.append(n_gram_sequence)\n",
        "          \n",
        "        \n",
        "    ### END CODE HERE\n",
        "    \n",
        "    return input_sequences"
      ],
      "metadata": {
        "id": "B6D_rl1eJAKE"
      },
      "execution_count": null,
      "outputs": []
    },
    {
      "cell_type": "code",
      "source": [],
      "metadata": {
        "id": "azVBAJ5Xik_p"
      },
      "execution_count": null,
      "outputs": []
    },
    {
      "cell_type": "code",
      "source": [
        "first_example_sequence = n_gram_seqs([short_sentenceList[0]], tokenizer1)\n",
        "\n",
        "print(\"n_gram sequences for first example look like this:\\n\")\n",
        "first_example_sequence"
      ],
      "metadata": {
        "id": "ECXLUGRKVIIC",
        "colab": {
          "base_uri": "https://localhost:8080/"
        },
        "outputId": "d3ae45e6-4aa7-4ed2-ba69-8933f351d028"
      },
      "execution_count": null,
      "outputs": [
        {
          "output_type": "stream",
          "name": "stdout",
          "text": [
            "n_gram sequences for first example look like this:\n",
            "\n"
          ]
        },
        {
          "output_type": "execute_result",
          "data": {
            "text/plain": [
              "[[117],\n",
              " [117, 1672],\n",
              " [117, 1672, 18],\n",
              " [117, 1672, 18, 13],\n",
              " [117, 1672, 18, 13, 78],\n",
              " [117, 1672, 18, 13, 78, 3],\n",
              " [117, 1672, 18, 13, 78, 3, 359],\n",
              " [117, 1672, 18, 13, 78, 3, 359, 1648],\n",
              " [117, 1672, 18, 13, 78, 3, 359, 1648, 3],\n",
              " [117, 1672, 18, 13, 78, 3, 359, 1648, 3, 1270]]"
            ]
          },
          "metadata": {},
          "execution_count": 79
        }
      ]
    },
    {
      "cell_type": "code",
      "source": [
        "# Apply the n_gram_seqs transformation to the whole corpus\n",
        "input_sequences = n_gram_seqs(short_sentenceList, tokenizer1)\n",
        "\n",
        "# Save max length \n",
        "max_sequence_len = max([len(x) for x in input_sequences])\n",
        "\n",
        "print(f\"n_grams of input_sequences have length: {len(input_sequences)}\")\n",
        "print(f\"maximum length of sequences is: {max_sequence_len}\")"
      ],
      "metadata": {
        "id": "_jIUzdfbXCGo",
        "colab": {
          "base_uri": "https://localhost:8080/"
        },
        "outputId": "99b6f219-2ae7-4434-9895-04eeb455ce4b"
      },
      "execution_count": null,
      "outputs": [
        {
          "output_type": "stream",
          "name": "stdout",
          "text": [
            "n_grams of input_sequences have length: 55017\n",
            "maximum length of sequences is: 12\n"
          ]
        }
      ]
    },
    {
      "cell_type": "code",
      "source": [
        "input_sequences[0:5]"
      ],
      "metadata": {
        "id": "9g1GA_j5MfDM",
        "colab": {
          "base_uri": "https://localhost:8080/"
        },
        "outputId": "66cefbe4-1bfc-4ec9-a510-8ec94ecfa3cc"
      },
      "execution_count": null,
      "outputs": [
        {
          "output_type": "execute_result",
          "data": {
            "text/plain": [
              "[[117],\n",
              " [117, 1672],\n",
              " [117, 1672, 18],\n",
              " [117, 1672, 18, 13],\n",
              " [117, 1672, 18, 13, 78]]"
            ]
          },
          "metadata": {},
          "execution_count": 81
        }
      ]
    },
    {
      "cell_type": "markdown",
      "source": [
        "# Padding the Sequences"
      ],
      "metadata": {
        "id": "C-uEQC5Qcsd5"
      }
    },
    {
      "cell_type": "code",
      "source": [
        "# GRADED FUNCTION: pad_seqs\n",
        "def pad_seqs(input_sequences, maxlen):\n",
        "    \"\"\"\n",
        "    Pads tokenized sequences to the same length\n",
        "    \n",
        "    Args:\n",
        "        input_sequences (list of int): tokenized sequences to pad\n",
        "        maxlen (int): maximum length of the token sequences\n",
        "    \n",
        "    Returns:\n",
        "        padded_sequences (array of int): tokenized sequences padded to the same length\n",
        "    \"\"\"\n",
        "    ### START CODE HERE\n",
        "    padded_sequences = np.array(pad_sequences(input_sequences, maxlen=maxlen, padding='pre'))\n",
        "    \n",
        "    return padded_sequences\n",
        "    ### END CODE HERE"
      ],
      "metadata": {
        "id": "q2kGCzL1MaX3"
      },
      "execution_count": null,
      "outputs": []
    },
    {
      "cell_type": "markdown",
      "source": [
        "Pad first example"
      ],
      "metadata": {
        "id": "6wNDfxVIdJ8V"
      }
    },
    {
      "cell_type": "code",
      "source": [
        "first_padded_seq = pad_seqs(first_example_sequence, len(first_example_sequence))\n",
        "first_padded_seq"
      ],
      "metadata": {
        "id": "mpCGhEZIcyv1",
        "colab": {
          "base_uri": "https://localhost:8080/"
        },
        "outputId": "61ca10f0-f71f-44e9-aeda-5cbfc3a96c55"
      },
      "execution_count": null,
      "outputs": [
        {
          "output_type": "execute_result",
          "data": {
            "text/plain": [
              "array([[   0,    0,    0,    0,    0,    0,    0,    0,    0,  117],\n",
              "       [   0,    0,    0,    0,    0,    0,    0,    0,  117, 1672],\n",
              "       [   0,    0,    0,    0,    0,    0,    0,  117, 1672,   18],\n",
              "       [   0,    0,    0,    0,    0,    0,  117, 1672,   18,   13],\n",
              "       [   0,    0,    0,    0,    0,  117, 1672,   18,   13,   78],\n",
              "       [   0,    0,    0,    0,  117, 1672,   18,   13,   78,    3],\n",
              "       [   0,    0,    0,  117, 1672,   18,   13,   78,    3,  359],\n",
              "       [   0,    0,  117, 1672,   18,   13,   78,    3,  359, 1648],\n",
              "       [   0,  117, 1672,   18,   13,   78,    3,  359, 1648,    3],\n",
              "       [ 117, 1672,   18,   13,   78,    3,  359, 1648,    3, 1270]],\n",
              "      dtype=int32)"
            ]
          },
          "metadata": {},
          "execution_count": 83
        }
      ]
    },
    {
      "cell_type": "markdown",
      "source": [
        "**Pad the whole dataset**"
      ],
      "metadata": {
        "id": "o_HzMxTbdMrE"
      }
    },
    {
      "cell_type": "code",
      "source": [
        "input_sequences = pad_seqs(input_sequences, max_sequence_len)\n",
        "\n",
        "print(f\"padded corpus has shape: {input_sequences.shape}\")"
      ],
      "metadata": {
        "id": "RxyGlUCbdI9p",
        "colab": {
          "base_uri": "https://localhost:8080/"
        },
        "outputId": "a41fe0eb-587d-48dd-b5c4-8433a6d0e619"
      },
      "execution_count": null,
      "outputs": [
        {
          "output_type": "stream",
          "name": "stdout",
          "text": [
            "padded corpus has shape: (55017, 12)\n"
          ]
        }
      ]
    },
    {
      "cell_type": "markdown",
      "source": [
        "## Split Data into features and Labels"
      ],
      "metadata": {
        "id": "4vLi7fYedxrV"
      }
    },
    {
      "cell_type": "code",
      "source": [
        "# GRADED FUNCTION: features_and_labels\n",
        "def features_and_labels(input_sequences, total_words):\n",
        "    \"\"\"\n",
        "    Generates features and labels from n-grams\n",
        "    \n",
        "    Args:\n",
        "        input_sequences (list of int): sequences to split features and labels from\n",
        "        total_words (int): vocabulary size\n",
        "    \n",
        "    Returns:\n",
        "        features, one_hot_labels (array of int, array of int): arrays of features and one-hot encoded labels\n",
        "    \"\"\"\n",
        "    ### START CODE HERE\n",
        "    features = input_sequences[:,:-1]\n",
        "    labels = input_sequences[:,-1]\n",
        "    one_hot_labels = to_categorical(labels, num_classes=total_words)\n",
        "    ### END CODE HERE\n",
        "\n",
        "    return features, one_hot_labels"
      ],
      "metadata": {
        "id": "UbImoouHd0wD"
      },
      "execution_count": null,
      "outputs": []
    },
    {
      "cell_type": "code",
      "source": [
        "# Test your function with the padded n_grams_seq of the first example\n",
        "first_features, first_labels = features_and_labels(first_padded_seq, 3000)\n",
        "\n",
        "print(f\"labels have shape: {first_labels.shape}\")\n",
        "print(\"\\nfeatures look like this:\\n\")\n",
        "first_features"
      ],
      "metadata": {
        "id": "2VN_by6td2HM",
        "colab": {
          "base_uri": "https://localhost:8080/"
        },
        "outputId": "c08a632c-88bc-42e0-9a80-d06058467b3c"
      },
      "execution_count": null,
      "outputs": [
        {
          "output_type": "stream",
          "name": "stdout",
          "text": [
            "labels have shape: (10, 3000)\n",
            "\n",
            "features look like this:\n",
            "\n"
          ]
        },
        {
          "output_type": "execute_result",
          "data": {
            "text/plain": [
              "array([[   0,    0,    0,    0,    0,    0,    0,    0,    0],\n",
              "       [   0,    0,    0,    0,    0,    0,    0,    0,  117],\n",
              "       [   0,    0,    0,    0,    0,    0,    0,  117, 1672],\n",
              "       [   0,    0,    0,    0,    0,    0,  117, 1672,   18],\n",
              "       [   0,    0,    0,    0,    0,  117, 1672,   18,   13],\n",
              "       [   0,    0,    0,    0,  117, 1672,   18,   13,   78],\n",
              "       [   0,    0,    0,  117, 1672,   18,   13,   78,    3],\n",
              "       [   0,    0,  117, 1672,   18,   13,   78,    3,  359],\n",
              "       [   0,  117, 1672,   18,   13,   78,    3,  359, 1648],\n",
              "       [ 117, 1672,   18,   13,   78,    3,  359, 1648,    3]],\n",
              "      dtype=int32)"
            ]
          },
          "metadata": {},
          "execution_count": 86
        }
      ]
    },
    {
      "cell_type": "code",
      "source": [
        "features, labels = features_and_labels(input_sequences, 3000)\n",
        "\n",
        "print(f\"features have shape: {features.shape}\")\n",
        "print(f\"labels have shape: {labels.shape}\")"
      ],
      "metadata": {
        "id": "MHOCKSmIeFqA",
        "colab": {
          "base_uri": "https://localhost:8080/"
        },
        "outputId": "8b3908c1-3963-4d8b-f6fc-7b456670535b"
      },
      "execution_count": null,
      "outputs": [
        {
          "output_type": "stream",
          "name": "stdout",
          "text": [
            "features have shape: (55017, 11)\n",
            "labels have shape: (55017, 3000)\n"
          ]
        }
      ]
    },
    {
      "cell_type": "markdown",
      "source": [],
      "metadata": {
        "id": "Bg1QVW4E9x7b"
      }
    },
    {
      "cell_type": "code",
      "source": [],
      "metadata": {
        "id": "-M1q5epy-rOO"
      },
      "execution_count": null,
      "outputs": []
    },
    {
      "cell_type": "markdown",
      "source": [
        "# Inserting Pre-Trained Embedding using glove"
      ],
      "metadata": {
        "id": "rTLZ4Sik9yBR"
      }
    },
    {
      "cell_type": "code",
      "source": [
        "# Define path to file containing the embeddings\n",
        "GLOVE_FILE = 'glove.6B.100d.txt'\n",
        "\n",
        "# Initialize an empty embeddings index dictionary\n",
        "GLOVE_EMBEDDINGS = {}\n",
        "\n",
        "# Read file and fill GLOVE_EMBEDDINGS with its contents\n",
        "with open(GLOVE_FILE) as f:\n",
        "    for line in f:\n",
        "        values = line.split()\n",
        "        word = values[0]\n",
        "        coefs = np.asarray(values[1:], dtype='float32')\n",
        "        GLOVE_EMBEDDINGS[word] = coefs"
      ],
      "metadata": {
        "id": "gv2L2Ng695cN"
      },
      "execution_count": null,
      "outputs": []
    },
    {
      "cell_type": "code",
      "source": [
        "test_word = 'dog'\n",
        "\n",
        "test_vector = GLOVE_EMBEDDINGS[test_word]\n",
        "\n",
        "print(f\"Vector representation of word {test_word} looks like this:\\n\\n{test_vector}\")"
      ],
      "metadata": {
        "colab": {
          "base_uri": "https://localhost:8080/"
        },
        "id": "9pEShCHM-RuD",
        "outputId": "0cae0306-269e-4d0b-da71-97662bfa26ec"
      },
      "execution_count": null,
      "outputs": [
        {
          "output_type": "stream",
          "name": "stdout",
          "text": [
            "Vector representation of word dog looks like this:\n",
            "\n",
            "[ 0.30817    0.30938    0.52803   -0.92543   -0.73671    0.63475\n",
            "  0.44197    0.10262   -0.09142   -0.56607   -0.5327     0.2013\n",
            "  0.7704    -0.13983    0.13727    1.1128     0.89301   -0.17869\n",
            " -0.0019722  0.57289    0.59479    0.50428   -0.28991   -1.3491\n",
            "  0.42756    1.2748    -1.1613    -0.41084    0.042804   0.54866\n",
            "  0.18897    0.3759     0.58035    0.66975    0.81156    0.93864\n",
            " -0.51005   -0.070079   0.82819   -0.35346    0.21086   -0.24412\n",
            " -0.16554   -0.78358   -0.48482    0.38968   -0.86356   -0.016391\n",
            "  0.31984   -0.49246   -0.069363   0.018869  -0.098286   1.3126\n",
            " -0.12116   -1.2399    -0.091429   0.35294    0.64645    0.089642\n",
            "  0.70294    1.1244     0.38639    0.52084    0.98787    0.79952\n",
            " -0.34625    0.14095    0.80167    0.20987   -0.86007   -0.15308\n",
            "  0.074523   0.40816    0.019208   0.51587   -0.34428   -0.24525\n",
            " -0.77984    0.27425    0.22418    0.20164    0.017431  -0.014697\n",
            " -1.0235    -0.39695   -0.0056188  0.30569    0.31748    0.021404\n",
            "  0.11837   -0.11319    0.42456    0.53405   -0.16717   -0.27185\n",
            " -0.6255     0.12883    0.62529   -0.52086  ]\n"
          ]
        }
      ]
    },
    {
      "cell_type": "code",
      "source": [
        "# Initialize an empty numpy array with the appropriate size\n",
        "EMBEDDINGS_MATRIX = np.zeros((3000, 100))\n",
        "\n",
        "# Iterate all of the words in the vocabulary and if the vector representation for \n",
        "# each word exists within GloVe's representations, save it in the EMBEDDINGS_MATRIX array\n",
        "for word,i in tokenizer1.word_index.items():\n",
        "    embedding_vector = GLOVE_EMBEDDINGS.get(word)\n",
        "    if embedding_vector is not None and i <3000:\n",
        "        EMBEDDINGS_MATRIX[i] = embedding_vector\n",
        "     "
      ],
      "metadata": {
        "id": "p_eHomKi-U2d"
      },
      "execution_count": null,
      "outputs": []
    },
    {
      "cell_type": "code",
      "source": [
        "def create_model(total_words, max_sequence_len):\n",
        "    \"\"\"\n",
        "    Creates a text generator model\n",
        "    \n",
        "    Args:\n",
        "        total_words (int): size of the vocabulary for the Embedding layer input\n",
        "        max_sequence_len (int): length of the input sequences\n",
        "    \n",
        "    Returns:\n",
        "        model (tf.keras Model): the text generator model\n",
        "    \"\"\"\n",
        "    model = Sequential()\n",
        "    ### START CODE HERE\n",
        "    model.add(Embedding(3000, 100, input_length=max_sequence_len-1,weights=[EMBEDDINGS_MATRIX]))\n",
        "    model.add(Bidirectional(LSTM(100,return_sequences = True)))\n",
        "    model.add(LSTM(100))\n",
        "    model.add(Dense(3000, activation='softmax'))\n",
        "    \n",
        "    \n",
        "   \n",
        "    \n",
        "\n",
        "    # Compile the model\n",
        "    model.compile(loss='categorical_crossentropy',\n",
        "                  optimizer='adam',\n",
        "                  metrics=['accuracy'])\n",
        "    \n",
        "    ### END CODE HERE\n",
        "\n",
        "    return model"
      ],
      "metadata": {
        "id": "Y5sfY_zfeJFd"
      },
      "execution_count": null,
      "outputs": []
    },
    {
      "cell_type": "code",
      "source": [
        "# Get the untrained model\n",
        "model = create_model(3000, max_sequence_len)\n",
        "\n"
      ],
      "metadata": {
        "id": "ujhkVAo2wilY"
      },
      "execution_count": null,
      "outputs": []
    },
    {
      "cell_type": "code",
      "source": [
        "filepath=\"/content/gdrive/My Drive/MyRNN/cp.ckpt\"\n",
        "checkpoint = ModelCheckpoint(filepath, save_weights_only=True,\n",
        "                                                 verbose=1)\n",
        "callbacks_list = [checkpoint]"
      ],
      "metadata": {
        "id": "_MDcq4Q4paS9"
      },
      "execution_count": null,
      "outputs": []
    },
    {
      "cell_type": "code",
      "source": [
        "history = model.fit(features, labels, epochs=50, verbose=1, callbacks=callbacks_list )"
      ],
      "metadata": {
        "id": "oWFzr-DypUZj",
        "colab": {
          "base_uri": "https://localhost:8080/"
        },
        "outputId": "8a59f776-64f1-46cf-d52b-d2100960c123"
      },
      "execution_count": null,
      "outputs": [
        {
          "output_type": "stream",
          "name": "stdout",
          "text": [
            "Epoch 1/50\n",
            "1720/1720 [==============================] - ETA: 0s - loss: 5.8490 - accuracy: 0.0682\n",
            "Epoch 1: saving model to /content/gdrive/My Drive/MyRNN/cp.ckpt\n",
            "1720/1720 [==============================] - 30s 12ms/step - loss: 5.8490 - accuracy: 0.0682\n",
            "Epoch 2/50\n",
            "1718/1720 [============================>.] - ETA: 0s - loss: 5.1856 - accuracy: 0.1180\n",
            "Epoch 2: saving model to /content/gdrive/My Drive/MyRNN/cp.ckpt\n",
            "1720/1720 [==============================] - 19s 11ms/step - loss: 5.1860 - accuracy: 0.1180\n",
            "Epoch 3/50\n",
            "1717/1720 [============================>.] - ETA: 0s - loss: 4.8813 - accuracy: 0.1413\n",
            "Epoch 3: saving model to /content/gdrive/My Drive/MyRNN/cp.ckpt\n",
            "1720/1720 [==============================] - 26s 15ms/step - loss: 4.8817 - accuracy: 0.1412\n",
            "Epoch 4/50\n",
            "1716/1720 [============================>.] - ETA: 0s - loss: 4.6740 - accuracy: 0.1530\n",
            "Epoch 4: saving model to /content/gdrive/My Drive/MyRNN/cp.ckpt\n",
            "1720/1720 [==============================] - 19s 11ms/step - loss: 4.6744 - accuracy: 0.1528\n",
            "Epoch 5/50\n",
            "1720/1720 [==============================] - ETA: 0s - loss: 4.5140 - accuracy: 0.1623\n",
            "Epoch 5: saving model to /content/gdrive/My Drive/MyRNN/cp.ckpt\n",
            "1720/1720 [==============================] - 17s 10ms/step - loss: 4.5140 - accuracy: 0.1623\n",
            "Epoch 6/50\n",
            "1720/1720 [==============================] - ETA: 0s - loss: 4.3746 - accuracy: 0.1717\n",
            "Epoch 6: saving model to /content/gdrive/My Drive/MyRNN/cp.ckpt\n",
            "1720/1720 [==============================] - 17s 10ms/step - loss: 4.3746 - accuracy: 0.1717\n",
            "Epoch 7/50\n",
            "1716/1720 [============================>.] - ETA: 0s - loss: 4.2460 - accuracy: 0.1810\n",
            "Epoch 7: saving model to /content/gdrive/My Drive/MyRNN/cp.ckpt\n",
            "1720/1720 [==============================] - 17s 10ms/step - loss: 4.2465 - accuracy: 0.1810\n",
            "Epoch 8/50\n",
            "1716/1720 [============================>.] - ETA: 0s - loss: 4.1334 - accuracy: 0.1903\n",
            "Epoch 8: saving model to /content/gdrive/My Drive/MyRNN/cp.ckpt\n",
            "1720/1720 [==============================] - 17s 10ms/step - loss: 4.1333 - accuracy: 0.1903\n",
            "Epoch 9/50\n",
            "1718/1720 [============================>.] - ETA: 0s - loss: 4.0363 - accuracy: 0.1971\n",
            "Epoch 9: saving model to /content/gdrive/My Drive/MyRNN/cp.ckpt\n",
            "1720/1720 [==============================] - 17s 10ms/step - loss: 4.0365 - accuracy: 0.1971\n",
            "Epoch 10/50\n",
            "1717/1720 [============================>.] - ETA: 0s - loss: 3.9349 - accuracy: 0.2055\n",
            "Epoch 10: saving model to /content/gdrive/My Drive/MyRNN/cp.ckpt\n",
            "1720/1720 [==============================] - 18s 11ms/step - loss: 3.9354 - accuracy: 0.2054\n",
            "Epoch 11/50\n",
            "1716/1720 [============================>.] - ETA: 0s - loss: 3.8427 - accuracy: 0.2160\n",
            "Epoch 11: saving model to /content/gdrive/My Drive/MyRNN/cp.ckpt\n",
            "1720/1720 [==============================] - 16s 10ms/step - loss: 3.8430 - accuracy: 0.2158\n",
            "Epoch 12/50\n",
            "1717/1720 [============================>.] - ETA: 0s - loss: 3.7552 - accuracy: 0.2259\n",
            "Epoch 12: saving model to /content/gdrive/My Drive/MyRNN/cp.ckpt\n",
            "1720/1720 [==============================] - 16s 10ms/step - loss: 3.7553 - accuracy: 0.2259\n",
            "Epoch 13/50\n",
            "1717/1720 [============================>.] - ETA: 0s - loss: 3.6703 - accuracy: 0.2349\n",
            "Epoch 13: saving model to /content/gdrive/My Drive/MyRNN/cp.ckpt\n",
            "1720/1720 [==============================] - 16s 10ms/step - loss: 3.6698 - accuracy: 0.2350\n",
            "Epoch 14/50\n",
            "1716/1720 [============================>.] - ETA: 0s - loss: 3.5892 - accuracy: 0.2477\n",
            "Epoch 14: saving model to /content/gdrive/My Drive/MyRNN/cp.ckpt\n",
            "1720/1720 [==============================] - 17s 10ms/step - loss: 3.5898 - accuracy: 0.2476\n",
            "Epoch 15/50\n",
            "1719/1720 [============================>.] - ETA: 0s - loss: 3.5085 - accuracy: 0.2567\n",
            "Epoch 15: saving model to /content/gdrive/My Drive/MyRNN/cp.ckpt\n",
            "1720/1720 [==============================] - 16s 10ms/step - loss: 3.5086 - accuracy: 0.2566\n",
            "Epoch 16/50\n",
            "1716/1720 [============================>.] - ETA: 0s - loss: 3.4319 - accuracy: 0.2695\n",
            "Epoch 16: saving model to /content/gdrive/My Drive/MyRNN/cp.ckpt\n",
            "1720/1720 [==============================] - 17s 10ms/step - loss: 3.4324 - accuracy: 0.2694\n",
            "Epoch 17/50\n",
            "1720/1720 [==============================] - ETA: 0s - loss: 3.3550 - accuracy: 0.2807\n",
            "Epoch 17: saving model to /content/gdrive/My Drive/MyRNN/cp.ckpt\n",
            "1720/1720 [==============================] - 16s 10ms/step - loss: 3.3550 - accuracy: 0.2807\n",
            "Epoch 18/50\n",
            "1718/1720 [============================>.] - ETA: 0s - loss: 3.2807 - accuracy: 0.2916\n",
            "Epoch 18: saving model to /content/gdrive/My Drive/MyRNN/cp.ckpt\n",
            "1720/1720 [==============================] - 18s 10ms/step - loss: 3.2805 - accuracy: 0.2916\n",
            "Epoch 19/50\n",
            "1720/1720 [==============================] - ETA: 0s - loss: 3.2090 - accuracy: 0.3029\n",
            "Epoch 19: saving model to /content/gdrive/My Drive/MyRNN/cp.ckpt\n",
            "1720/1720 [==============================] - 16s 9ms/step - loss: 3.2090 - accuracy: 0.3029\n",
            "Epoch 20/50\n",
            "1716/1720 [============================>.] - ETA: 0s - loss: 3.1385 - accuracy: 0.3168\n",
            "Epoch 20: saving model to /content/gdrive/My Drive/MyRNN/cp.ckpt\n",
            "1720/1720 [==============================] - 16s 10ms/step - loss: 3.1390 - accuracy: 0.3168\n",
            "Epoch 21/50\n",
            "1718/1720 [============================>.] - ETA: 0s - loss: 3.0718 - accuracy: 0.3284\n",
            "Epoch 21: saving model to /content/gdrive/My Drive/MyRNN/cp.ckpt\n",
            "1720/1720 [==============================] - 18s 10ms/step - loss: 3.0717 - accuracy: 0.3284\n",
            "Epoch 22/50\n",
            "1720/1720 [==============================] - ETA: 0s - loss: 3.0035 - accuracy: 0.3406\n",
            "Epoch 22: saving model to /content/gdrive/My Drive/MyRNN/cp.ckpt\n",
            "1720/1720 [==============================] - 19s 11ms/step - loss: 3.0035 - accuracy: 0.3406\n",
            "Epoch 23/50\n",
            "1717/1720 [============================>.] - ETA: 0s - loss: 2.9414 - accuracy: 0.3522\n",
            "Epoch 23: saving model to /content/gdrive/My Drive/MyRNN/cp.ckpt\n",
            "1720/1720 [==============================] - 21s 12ms/step - loss: 2.9420 - accuracy: 0.3520\n",
            "Epoch 24/50\n",
            "1720/1720 [==============================] - ETA: 0s - loss: 2.8802 - accuracy: 0.3650\n",
            "Epoch 24: saving model to /content/gdrive/My Drive/MyRNN/cp.ckpt\n",
            "1720/1720 [==============================] - 20s 12ms/step - loss: 2.8802 - accuracy: 0.3650\n",
            "Epoch 25/50\n",
            "1718/1720 [============================>.] - ETA: 0s - loss: 2.8211 - accuracy: 0.3764\n",
            "Epoch 25: saving model to /content/gdrive/My Drive/MyRNN/cp.ckpt\n",
            "1720/1720 [==============================] - 21s 12ms/step - loss: 2.8213 - accuracy: 0.3764\n",
            "Epoch 26/50\n",
            "1718/1720 [============================>.] - ETA: 0s - loss: 2.7630 - accuracy: 0.3873\n",
            "Epoch 26: saving model to /content/gdrive/My Drive/MyRNN/cp.ckpt\n",
            "1720/1720 [==============================] - 20s 12ms/step - loss: 2.7635 - accuracy: 0.3872\n",
            "Epoch 27/50\n",
            "1720/1720 [==============================] - ETA: 0s - loss: 2.7075 - accuracy: 0.3989\n",
            "Epoch 27: saving model to /content/gdrive/My Drive/MyRNN/cp.ckpt\n",
            "1720/1720 [==============================] - 20s 12ms/step - loss: 2.7075 - accuracy: 0.3989\n",
            "Epoch 28/50\n",
            "1718/1720 [============================>.] - ETA: 0s - loss: 2.6570 - accuracy: 0.4101\n",
            "Epoch 28: saving model to /content/gdrive/My Drive/MyRNN/cp.ckpt\n",
            "1720/1720 [==============================] - 18s 11ms/step - loss: 2.6573 - accuracy: 0.4100\n",
            "Epoch 29/50\n",
            "1719/1720 [============================>.] - ETA: 0s - loss: 2.6033 - accuracy: 0.4209\n",
            "Epoch 29: saving model to /content/gdrive/My Drive/MyRNN/cp.ckpt\n",
            "1720/1720 [==============================] - 19s 11ms/step - loss: 2.6032 - accuracy: 0.4209\n",
            "Epoch 30/50\n",
            "1718/1720 [============================>.] - ETA: 0s - loss: 2.5560 - accuracy: 0.4291\n",
            "Epoch 30: saving model to /content/gdrive/My Drive/MyRNN/cp.ckpt\n",
            "1720/1720 [==============================] - 19s 11ms/step - loss: 2.5556 - accuracy: 0.4291\n",
            "Epoch 31/50\n",
            "1719/1720 [============================>.] - ETA: 0s - loss: 2.5089 - accuracy: 0.4413\n",
            "Epoch 31: saving model to /content/gdrive/My Drive/MyRNN/cp.ckpt\n",
            "1720/1720 [==============================] - 19s 11ms/step - loss: 2.5089 - accuracy: 0.4413\n",
            "Epoch 32/50\n",
            "1716/1720 [============================>.] - ETA: 0s - loss: 2.4625 - accuracy: 0.4508\n",
            "Epoch 32: saving model to /content/gdrive/My Drive/MyRNN/cp.ckpt\n",
            "1720/1720 [==============================] - 20s 12ms/step - loss: 2.4622 - accuracy: 0.4508\n",
            "Epoch 33/50\n",
            "1717/1720 [============================>.] - ETA: 0s - loss: 2.4206 - accuracy: 0.4602\n",
            "Epoch 33: saving model to /content/gdrive/My Drive/MyRNN/cp.ckpt\n",
            "1720/1720 [==============================] - 19s 11ms/step - loss: 2.4208 - accuracy: 0.4602\n",
            "Epoch 34/50\n",
            "1718/1720 [============================>.] - ETA: 0s - loss: 2.3774 - accuracy: 0.4706\n",
            "Epoch 34: saving model to /content/gdrive/My Drive/MyRNN/cp.ckpt\n",
            "1720/1720 [==============================] - 20s 11ms/step - loss: 2.3776 - accuracy: 0.4706\n",
            "Epoch 35/50\n",
            "1718/1720 [============================>.] - ETA: 0s - loss: 2.3360 - accuracy: 0.4784\n",
            "Epoch 35: saving model to /content/gdrive/My Drive/MyRNN/cp.ckpt\n",
            "1720/1720 [==============================] - 19s 11ms/step - loss: 2.3358 - accuracy: 0.4784\n",
            "Epoch 36/50\n",
            "1720/1720 [==============================] - ETA: 0s - loss: 2.3007 - accuracy: 0.4875\n",
            "Epoch 36: saving model to /content/gdrive/My Drive/MyRNN/cp.ckpt\n",
            "1720/1720 [==============================] - 18s 11ms/step - loss: 2.3007 - accuracy: 0.4875\n",
            "Epoch 37/50\n",
            "1717/1720 [============================>.] - ETA: 0s - loss: 2.2619 - accuracy: 0.4958\n",
            "Epoch 37: saving model to /content/gdrive/My Drive/MyRNN/cp.ckpt\n",
            "1720/1720 [==============================] - 18s 10ms/step - loss: 2.2621 - accuracy: 0.4958\n",
            "Epoch 38/50\n",
            "1720/1720 [==============================] - ETA: 0s - loss: 2.2283 - accuracy: 0.5028\n",
            "Epoch 38: saving model to /content/gdrive/My Drive/MyRNN/cp.ckpt\n",
            "1720/1720 [==============================] - 17s 10ms/step - loss: 2.2283 - accuracy: 0.5028\n",
            "Epoch 39/50\n",
            "1718/1720 [============================>.] - ETA: 0s - loss: 2.1929 - accuracy: 0.5110\n",
            "Epoch 39: saving model to /content/gdrive/My Drive/MyRNN/cp.ckpt\n",
            "1720/1720 [==============================] - 18s 11ms/step - loss: 2.1931 - accuracy: 0.5110\n",
            "Epoch 40/50\n",
            "1718/1720 [============================>.] - ETA: 0s - loss: 2.1633 - accuracy: 0.5158\n",
            "Epoch 40: saving model to /content/gdrive/My Drive/MyRNN/cp.ckpt\n",
            "1720/1720 [==============================] - 17s 10ms/step - loss: 2.1634 - accuracy: 0.5157\n",
            "Epoch 41/50\n",
            "1716/1720 [============================>.] - ETA: 0s - loss: 2.1331 - accuracy: 0.5217\n",
            "Epoch 41: saving model to /content/gdrive/My Drive/MyRNN/cp.ckpt\n",
            "1720/1720 [==============================] - 17s 10ms/step - loss: 2.1336 - accuracy: 0.5216\n",
            "Epoch 42/50\n",
            "1718/1720 [============================>.] - ETA: 0s - loss: 2.1050 - accuracy: 0.5294\n",
            "Epoch 42: saving model to /content/gdrive/My Drive/MyRNN/cp.ckpt\n",
            "1720/1720 [==============================] - 17s 10ms/step - loss: 2.1049 - accuracy: 0.5294\n",
            "Epoch 43/50\n",
            "1718/1720 [============================>.] - ETA: 0s - loss: 2.0772 - accuracy: 0.5349\n",
            "Epoch 43: saving model to /content/gdrive/My Drive/MyRNN/cp.ckpt\n",
            "1720/1720 [==============================] - 17s 10ms/step - loss: 2.0774 - accuracy: 0.5348\n",
            "Epoch 44/50\n",
            "1719/1720 [============================>.] - ETA: 0s - loss: 2.0528 - accuracy: 0.5397\n",
            "Epoch 44: saving model to /content/gdrive/My Drive/MyRNN/cp.ckpt\n",
            "1720/1720 [==============================] - 17s 10ms/step - loss: 2.0527 - accuracy: 0.5398\n",
            "Epoch 45/50\n",
            "1719/1720 [============================>.] - ETA: 0s - loss: 2.0274 - accuracy: 0.5442\n",
            "Epoch 45: saving model to /content/gdrive/My Drive/MyRNN/cp.ckpt\n",
            "1720/1720 [==============================] - 16s 10ms/step - loss: 2.0274 - accuracy: 0.5442\n",
            "Epoch 46/50\n",
            "1717/1720 [============================>.] - ETA: 0s - loss: 2.0045 - accuracy: 0.5508\n",
            "Epoch 46: saving model to /content/gdrive/My Drive/MyRNN/cp.ckpt\n",
            "1720/1720 [==============================] - 18s 10ms/step - loss: 2.0044 - accuracy: 0.5508\n",
            "Epoch 47/50\n",
            "1719/1720 [============================>.] - ETA: 0s - loss: 1.9817 - accuracy: 0.5557\n",
            "Epoch 47: saving model to /content/gdrive/My Drive/MyRNN/cp.ckpt\n",
            "1720/1720 [==============================] - 17s 10ms/step - loss: 1.9818 - accuracy: 0.5557\n",
            "Epoch 48/50\n",
            "1719/1720 [============================>.] - ETA: 0s - loss: 1.9619 - accuracy: 0.5597\n",
            "Epoch 48: saving model to /content/gdrive/My Drive/MyRNN/cp.ckpt\n",
            "1720/1720 [==============================] - 17s 10ms/step - loss: 1.9619 - accuracy: 0.5597\n",
            "Epoch 49/50\n",
            "1715/1720 [============================>.] - ETA: 0s - loss: 1.9406 - accuracy: 0.5636\n",
            "Epoch 49: saving model to /content/gdrive/My Drive/MyRNN/cp.ckpt\n",
            "1720/1720 [==============================] - 16s 9ms/step - loss: 1.9409 - accuracy: 0.5636\n",
            "Epoch 50/50\n",
            "1718/1720 [============================>.] - ETA: 0s - loss: 1.9212 - accuracy: 0.5676\n",
            "Epoch 50: saving model to /content/gdrive/My Drive/MyRNN/cp.ckpt\n",
            "1720/1720 [==============================] - 16s 10ms/step - loss: 1.9209 - accuracy: 0.5676\n"
          ]
        }
      ]
    },
    {
      "cell_type": "code",
      "source": [
        "#load the weights of trained model each time using checkpoints\n",
        "#model.load_weights(filepath)"
      ],
      "metadata": {
        "id": "XjiBXlj8ROfP"
      },
      "execution_count": null,
      "outputs": []
    },
    {
      "cell_type": "code",
      "source": [
        "acc = history.history['accuracy']\n",
        "loss = history.history['loss']\n",
        "\n",
        "epochs = range(len(acc))\n",
        "\n",
        "plt.plot(epochs, acc, 'b', label='Training accuracy')\n",
        "plt.title('Training accuracy')\n",
        "\n",
        "plt.figure()\n",
        "\n",
        "plt.plot(epochs, loss, 'b', label='Training Loss')\n",
        "plt.title('Training loss')\n",
        "plt.legend()\n",
        "\n",
        "plt.show()"
      ],
      "metadata": {
        "id": "1gWpbqDqe22E",
        "colab": {
          "base_uri": "https://localhost:8080/",
          "height": 545
        },
        "outputId": "8a89f8bb-f0f1-4513-d656-4c4072f1cf97"
      },
      "execution_count": null,
      "outputs": [
        {
          "output_type": "display_data",
          "data": {
            "text/plain": [
              "<Figure size 432x288 with 1 Axes>"
            ],
            "image/png": "[encoded data removed]"
          },
          "metadata": {
            "needs_background": "light"
          }
        },
        {
          "output_type": "display_data",
          "data": {
            "text/plain": [
              "<Figure size 432x288 with 1 Axes>"
            ],
            "image/png": "[encoded data removed]"
          },
          "metadata": {
            "needs_background": "light"
          }
        }
      ]
    },
    {
      "cell_type": "code",
      "source": [
        "from random import randint\n",
        "seed_text = \"thank thank thank thank thank thank thank thank  thank Thank you speaker, I would like to talk about the economy\"\n",
        "next_words = 18\n",
        "  \n",
        "\n",
        "for i in range(25):\n",
        "\n",
        "    for _ in range(next_words):\n",
        "          # Convert the text into sequences\n",
        "          token_list = tokenizer1.texts_to_sequences([seed_text])[0]\n",
        "          # Pad the sequences\n",
        "          token_list = pad_sequences([token_list], maxlen=max_sequence_len-1, padding='pre')\n",
        "          # Get the probabilities of predicting a word\n",
        "          predicted = model.predict(token_list, verbose=0)\n",
        "          # Choose the next word based on the maximum probability\n",
        "          predicted = np.argmax(predicted, axis=-1).item()\n",
        "          # Get the actual word from the word index\n",
        "          output_word = tokenizer1.index_word[predicted]\n",
        "          # Append to the current text\n",
        "          seed_text += \" \" + output_word\n",
        "    \n",
        "  \n",
        "    word_list_tokens=tokenizer1.texts_to_sequences([seed_text])[0]\n",
        "    words=[]\n",
        "    for word in word_list_tokens:\n",
        "      words.append(tokenizer1.index_word[word])#words is a list of words that are to be printed\n",
        "    \n",
        "\n",
        "    print(' '.join(words[9:]) + '\\n')\n",
        "    seed_text=' '.join(words[-9:])\n",
        "\n",
        "\n",
        "  \n",
        "    \n",
        "\n",
        "\n",
        "\n"
      ],
      "metadata": {
        "id": "P1YYLkOwmsxM",
        "colab": {
          "base_uri": "https://localhost:8080/"
        },
        "outputId": "a92f2069-01bb-490a-9851-7a0ef6bff0a9"
      },
      "execution_count": null,
      "outputs": [
        {
          "output_type": "stream",
          "name": "stdout",
          "text": [
            "thank you speaker i would like to talk about the economy mr being it should be come to end them education in the future we want to do that\n",
            "\n",
            "way it forever do not work quickly absolutely to it can do it quickly absolutely them all about\n",
            "\n",
            "things we pass it die all of that our country our country together and it must be stopped\n",
            "\n",
            "close out tomorrow my party in the audience members of iraq q for americans do not there are\n",
            "\n",
            "too possible in america made far before us out today is done since our time at home and\n",
            "\n",
            "died here in the world power to care we do it together our country is it better absolutely\n",
            "\n",
            "it quickly absolutely to do it done quickly do it done quickly it forever well behind it is\n",
            "\n",
            "possible we it can be done it laughter as i get it forever set back that we do\n",
            "\n",
            "not to do it quickly do it through all about this year was as well do a vote\n",
            "\n",
            "not to 4 years to put the u you do it work was done in years to put\n",
            "\n",
            "some some something very very very very best one country done it before for me over my time\n",
            "\n",
            "so is a complete were without race use forces agree on your help support it was necessary than\n",
            "\n",
            "this team is so far from his mind is perfect in for them together in time there is\n",
            "\n",
            "now universal strength back back so i happen in me calls it quickly do it is necessary without\n",
            "\n",
            "individual by the work forward here next year old oil in iraq reform it is a won time\n",
            "\n",
            "threat up she happen here at home and we've had done hard on me out of them side\n",
            "\n",
            "of the year elected him a in 1881 is done it forever from us or work in one\n",
            "\n",
            "task for small steps it is hard work together in here today are year days and two years\n",
            "\n",
            "ago they do a team with the u of death plan is to vote beyond our time it\n",
            "\n",
            "was better over my own protection in 1881 do it straight out of the gulf war is necessary\n",
            "\n",
            "to come with us but to change it is done quickly absolutely on this will end big jobs\n",
            "\n",
            "not choose peace in 1881 haven't to come together in with him one year old take immigration goals\n",
            "\n",
            "at peace to prove it quickly absolutely on this year was won years to the past run of\n",
            "\n",
            "nuclear weapons tax cut war in iraq is the world needs to freedom is much better than this\n",
            "\n",
            "team is so so in geneva with course in 7 years ago our country is finished to us\n",
            "\n"
          ]
        }
      ]
    },
    {
      "cell_type": "code",
      "source": [
        "! zip my_model"
      ],
      "metadata": {
        "id": "NWvFoKSa7VpE"
      },
      "execution_count": null,
      "outputs": []
    },
    {
      "cell_type": "code",
      "source": [],
      "metadata": {
        "id": "x82x3zFY1bGc"
      },
      "execution_count": null,
      "outputs": []
    }
  ]
}